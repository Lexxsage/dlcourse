{
  "cells": [
    {
      "cell_type": "markdown",
      "metadata": {
        "id": "AbwmoJusmueU"
      },
      "source": [
        "# Reinforcement Learning"
      ]
    },
    {
      "cell_type": "markdown",
      "metadata": {
        "id": "7xcuGNp-mueX"
      },
      "source": [
        "В этом задании постараемся разобраться в проблеме обучения с подкреплением, реализуем алгоритм REINFORCE и научим агента с помощью этого алгоритма играть в игру Cartpole."
      ]
    },
    {
      "cell_type": "markdown",
      "metadata": {
        "id": "4HoHMD_GmueZ"
      },
      "source": [
        "Установим и импортируем необходимые библиотеки, а также вспомогательные функции для визуализации игры агента."
      ]
    },
    {
      "cell_type": "code",
      "execution_count": 1,
      "metadata": {
        "id": "kHKfskxa7kaI"
      },
      "outputs": [],
      "source": [
        "!pip install gym pandas torch matplotlib pyvirtualdisplay > /dev/null 2>&1\n",
        "!apt-get install -y xvfb python-opengl ffmpeg x11-utils > /dev/null 2>&1"
      ]
    },
    {
      "cell_type": "code",
      "source": [
        "get_ipython().magic(u'matplotlib inline')"
      ],
      "metadata": {
        "id": "arUlbnaXo8Fc"
      },
      "execution_count": 2,
      "outputs": []
    },
    {
      "cell_type": "code",
      "execution_count": 3,
      "metadata": {
        "id": "WiX0JVM3z0Ru"
      },
      "outputs": [],
      "source": [
        "from IPython.display import clear_output, HTML\n",
        "from IPython import display as ipythondisplay\n",
        "import matplotlib.pyplot as plt\n",
        "%matplotlib inline"
      ]
    },
    {
      "cell_type": "code",
      "execution_count": 4,
      "metadata": {
        "id": "IsjSHknYl1rj"
      },
      "outputs": [],
      "source": [
        "import numpy as np\n",
        "import glob\n",
        "import time\n",
        "import io\n",
        "import base64\n",
        "import gym\n",
        "from gym.wrappers import Monitor\n",
        "import torch\n",
        "import collections\n",
        "import pandas as pd\n",
        "from torch import nn\n",
        "from torch.optim import Adam\n",
        "from torch.distributions import Categorical"
      ]
    },
    {
      "cell_type": "code",
      "execution_count": 5,
      "metadata": {
        "id": "b5KfVGq1n_8s",
        "colab": {
          "base_uri": "https://localhost:8080/"
        },
        "outputId": "987894b6-34b5-43f8-883c-30cce8a957ee"
      },
      "outputs": [
        {
          "output_type": "execute_result",
          "data": {
            "text/plain": [
              "<pyvirtualdisplay.display.Display at 0x7fadf15ce990>"
            ]
          },
          "metadata": {},
          "execution_count": 5
        }
      ],
      "source": [
        "from pyvirtualdisplay import Display\n",
        "display = Display(visible=0, size=(1400, 900))\n",
        "display.start()"
      ]
    },
    {
      "cell_type": "code",
      "execution_count": 6,
      "metadata": {
        "id": "4xGh4QxDnlFw"
      },
      "outputs": [],
      "source": [
        "\"\"\"\n",
        "Utility functions to enable video recording of gym environment and displaying it\n",
        "To enable video, just do \"env = wrap_env(env)\"\"\n",
        "\"\"\"\n",
        "\n",
        "def show_video():\n",
        "    mp4list = glob.glob('video/*.mp4')\n",
        "    if len(mp4list) > 0:\n",
        "        mp4 = mp4list[0]\n",
        "        video = io.open(mp4, 'r+b').read()\n",
        "        encoded = base64.b64encode(video)\n",
        "        ipythondisplay.display(HTML(data='''<video alt=\"test\" autoplay \n",
        "                loop controls style=\"height: 400px;\">\n",
        "                <source src=\"data:video/mp4;base64,{0}\" type=\"video/mp4\" />\n",
        "             </video>'''.format(encoded.decode('ascii'))))\n",
        "    else: \n",
        "        print(\"Could not find video\")\n",
        "    \n",
        "\n",
        "def wrap_env(env):\n",
        "    env = Monitor(env, './video', force=True)\n",
        "    return env"
      ]
    },
    {
      "cell_type": "code",
      "execution_count": 7,
      "metadata": {
        "id": "Dfi89tXjmuet",
        "colab": {
          "base_uri": "https://localhost:8080/"
        },
        "outputId": "66f1acc8-8ab4-4de4-e381-238321c5c596"
      },
      "outputs": [
        {
          "output_type": "execute_result",
          "data": {
            "text/plain": [
              "device(type='cuda', index=0)"
            ]
          },
          "metadata": {},
          "execution_count": 7
        }
      ],
      "source": [
        "device = torch.device('cuda:0')\n",
        "device"
      ]
    },
    {
      "cell_type": "markdown",
      "metadata": {
        "id": "AhDVTPxymuez"
      },
      "source": [
        "## OpenAI Gym"
      ]
    },
    {
      "cell_type": "markdown",
      "metadata": {
        "id": "VZb-IIq4muez"
      },
      "source": [
        "[OpenAI Gym](https://gym.openai.com) это набор сред для разработки и сравнения алгоритмов обучения с подкреплением."
      ]
    },
    {
      "cell_type": "markdown",
      "metadata": {
        "id": "fFkuRjxNmue2"
      },
      "source": [
        "OpenAI Gym предоставляет простой и универсальный API ко многим средам с разными свойствами, как простым так и сложным:\n",
        "* Классические задачи управления и игрушечные примеры, которые можно найти в учебниках и на которых демонстрируется работа алгоритмов обучения с подкреплением (одна из этих сред используется в этом задании)\n",
        "* Игры Atari (оказали огромное влияние на достижения в обучении с подкреплением в последние годы)\n",
        "* 2D и 3D среды для контроля роботов в симуляции (используют проприетарный движок [Mojuco](http://www.mujoco.org))"
      ]
    },
    {
      "cell_type": "markdown",
      "metadata": {
        "id": "NIu0Uhj7mue5"
      },
      "source": [
        "Рассмотрим, как устроена среда [CartPole-v0](https://gym.openai.com/envs/CartPole-v0), с которой мы будем работать."
      ]
    },
    {
      "cell_type": "markdown",
      "metadata": {
        "id": "KYHUeiMXmue6"
      },
      "source": [
        "Для этого создадим среду и выведем ее описание."
      ]
    },
    {
      "cell_type": "code",
      "execution_count": 8,
      "metadata": {
        "id": "b9BRqxoDmue7",
        "colab": {
          "base_uri": "https://localhost:8080/"
        },
        "outputId": "be4a75c4-e288-434e-f407-d5c9ada9c103"
      },
      "outputs": [
        {
          "output_type": "stream",
          "name": "stdout",
          "text": [
            "\n",
            "    Description:\n",
            "        A pole is attached by an un-actuated joint to a cart, which moves along\n",
            "        a frictionless track. The pendulum starts upright, and the goal is to\n",
            "        prevent it from falling over by increasing and reducing the cart's\n",
            "        velocity.\n",
            "\n",
            "    Source:\n",
            "        This environment corresponds to the version of the cart-pole problem\n",
            "        described by Barto, Sutton, and Anderson\n",
            "\n",
            "    Observation:\n",
            "        Type: Box(4)\n",
            "        Num     Observation               Min                     Max\n",
            "        0       Cart Position             -4.8                    4.8\n",
            "        1       Cart Velocity             -Inf                    Inf\n",
            "        2       Pole Angle                -0.418 rad (-24 deg)    0.418 rad (24 deg)\n",
            "        3       Pole Angular Velocity     -Inf                    Inf\n",
            "\n",
            "    Actions:\n",
            "        Type: Discrete(2)\n",
            "        Num   Action\n",
            "        0     Push cart to the left\n",
            "        1     Push cart to the right\n",
            "\n",
            "        Note: The amount the velocity that is reduced or increased is not\n",
            "        fixed; it depends on the angle the pole is pointing. This is because\n",
            "        the center of gravity of the pole increases the amount of energy needed\n",
            "        to move the cart underneath it\n",
            "\n",
            "    Reward:\n",
            "        Reward is 1 for every step taken, including the termination step\n",
            "\n",
            "    Starting State:\n",
            "        All observations are assigned a uniform random value in [-0.05..0.05]\n",
            "\n",
            "    Episode Termination:\n",
            "        Pole Angle is more than 12 degrees.\n",
            "        Cart Position is more than 2.4 (center of the cart reaches the edge of\n",
            "        the display).\n",
            "        Episode length is greater than 200.\n",
            "        Solved Requirements:\n",
            "        Considered solved when the average return is greater than or equal to\n",
            "        195.0 over 100 consecutive trials.\n",
            "    \n"
          ]
        }
      ],
      "source": [
        "env = gym.make(\"CartPole-v0\")\n",
        "print(env.env.__doc__)"
      ]
    },
    {
      "cell_type": "markdown",
      "metadata": {
        "id": "tovAoT5dmufD"
      },
      "source": [
        "Из этого описания мы можем узнать, как устроены пространства состояний и действий в этой среды, какие награды получаются на каждом шаге, а также, что нам необходимо сделать, чтобы научиться \"решать\" эту среду, а именно достич средней награды больше 195.0 или больше за 100 последовательных запусков агента в этой среде. Именно такого агента мы и попробуем создать и обучить."
      ]
    },
    {
      "cell_type": "markdown",
      "metadata": {
        "id": "hZ98fYaxmufF"
      },
      "source": [
        "Но для начала напишем вспомогательную функцию, которая будет принимать на вход среду, агента и число эпизодов, и возвращать среднюю награду за 100 эпизодов. С помощью этой функции мы сможем протестировать, насколько хорошо обучился наш агент, а также визуализировать его поведение в среде."
      ]
    },
    {
      "cell_type": "code",
      "execution_count": 9,
      "metadata": {
        "id": "0jXEOwd7njUm"
      },
      "outputs": [],
      "source": [
        "def test_agent(env, agent=None, n_episodes=100):\n",
        "    \"\"\"Runs agent for n_episodes in environment and calclates mean reward.\n",
        "    \n",
        "    Args:\n",
        "        env: The environment for agent to play in\n",
        "        agent: The agent to play with. Defaults to None - \n",
        "            in this case random agent is used.\n",
        "        n_episodes: Number of episodes to play. Defaults to 100.\n",
        "\n",
        "    Returns:\n",
        "        Mean reward for 100 episodes.\n",
        "    \"\"\"\n",
        "    total_reward = []\n",
        "    for episode in range(n_episodes):\n",
        "        episode_reward = 0\n",
        "        observation = env.reset()\n",
        "        t = 0\n",
        "        while True:\n",
        "            if agent:\n",
        "                with torch.no_grad():\n",
        "                    probs = agent(torch.FloatTensor(observation).to(device))\n",
        "                    dist = Categorical(probs)\n",
        "                    action = dist.sample().item()\n",
        "            else:\n",
        "                action = env.action_space.sample()\n",
        "            observation, reward, done, info = env.step(action)\n",
        "            episode_reward += reward\n",
        "            t += 1\n",
        "            if done:\n",
        "                print(\"Episode {} finished after {} timesteps\".format(episode+1, t+1))\n",
        "                break\n",
        "        total_reward.append(episode_reward)\n",
        "        env.close()\n",
        "                   \n",
        "    return np.mean(total_reward)"
      ]
    },
    {
      "cell_type": "markdown",
      "metadata": {
        "id": "TqnYqFVSmufL"
      },
      "source": [
        "Протестируем и визуализируем случайного агента (параметр ```agent=False```)."
      ]
    },
    {
      "cell_type": "code",
      "execution_count": 10,
      "metadata": {
        "id": "yqVokBDFmufM",
        "scrolled": true,
        "colab": {
          "base_uri": "https://localhost:8080/"
        },
        "outputId": "5149c6b6-ae9e-4253-bb59-ed996dadea76"
      },
      "outputs": [
        {
          "output_type": "stream",
          "name": "stdout",
          "text": [
            "Episode 1 finished after 24 timesteps\n",
            "Episode 2 finished after 27 timesteps\n",
            "Episode 3 finished after 15 timesteps\n",
            "Episode 4 finished after 17 timesteps\n",
            "Episode 5 finished after 11 timesteps\n",
            "Episode 6 finished after 22 timesteps\n",
            "Episode 7 finished after 19 timesteps\n",
            "Episode 8 finished after 20 timesteps\n",
            "Episode 9 finished after 59 timesteps\n",
            "Episode 10 finished after 14 timesteps\n",
            "Episode 11 finished after 21 timesteps\n",
            "Episode 12 finished after 20 timesteps\n",
            "Episode 13 finished after 19 timesteps\n",
            "Episode 14 finished after 11 timesteps\n",
            "Episode 15 finished after 15 timesteps\n",
            "Episode 16 finished after 38 timesteps\n",
            "Episode 17 finished after 16 timesteps\n",
            "Episode 18 finished after 18 timesteps\n",
            "Episode 19 finished after 13 timesteps\n",
            "Episode 20 finished after 15 timesteps\n",
            "Episode 21 finished after 30 timesteps\n",
            "Episode 22 finished after 13 timesteps\n",
            "Episode 23 finished after 21 timesteps\n",
            "Episode 24 finished after 28 timesteps\n",
            "Episode 25 finished after 13 timesteps\n",
            "Episode 26 finished after 34 timesteps\n",
            "Episode 27 finished after 29 timesteps\n",
            "Episode 28 finished after 24 timesteps\n",
            "Episode 29 finished after 23 timesteps\n",
            "Episode 30 finished after 39 timesteps\n",
            "Episode 31 finished after 47 timesteps\n",
            "Episode 32 finished after 19 timesteps\n",
            "Episode 33 finished after 22 timesteps\n",
            "Episode 34 finished after 13 timesteps\n",
            "Episode 35 finished after 14 timesteps\n",
            "Episode 36 finished after 14 timesteps\n",
            "Episode 37 finished after 20 timesteps\n",
            "Episode 38 finished after 17 timesteps\n",
            "Episode 39 finished after 33 timesteps\n",
            "Episode 40 finished after 13 timesteps\n",
            "Episode 41 finished after 12 timesteps\n",
            "Episode 42 finished after 18 timesteps\n",
            "Episode 43 finished after 12 timesteps\n",
            "Episode 44 finished after 15 timesteps\n",
            "Episode 45 finished after 30 timesteps\n",
            "Episode 46 finished after 11 timesteps\n",
            "Episode 47 finished after 19 timesteps\n",
            "Episode 48 finished after 27 timesteps\n",
            "Episode 49 finished after 17 timesteps\n",
            "Episode 50 finished after 50 timesteps\n",
            "Episode 51 finished after 35 timesteps\n",
            "Episode 52 finished after 12 timesteps\n",
            "Episode 53 finished after 9 timesteps\n",
            "Episode 54 finished after 16 timesteps\n",
            "Episode 55 finished after 14 timesteps\n",
            "Episode 56 finished after 19 timesteps\n",
            "Episode 57 finished after 10 timesteps\n",
            "Episode 58 finished after 19 timesteps\n",
            "Episode 59 finished after 33 timesteps\n",
            "Episode 60 finished after 23 timesteps\n",
            "Episode 61 finished after 26 timesteps\n",
            "Episode 62 finished after 30 timesteps\n",
            "Episode 63 finished after 14 timesteps\n",
            "Episode 64 finished after 24 timesteps\n",
            "Episode 65 finished after 22 timesteps\n",
            "Episode 66 finished after 21 timesteps\n",
            "Episode 67 finished after 15 timesteps\n",
            "Episode 68 finished after 13 timesteps\n",
            "Episode 69 finished after 28 timesteps\n",
            "Episode 70 finished after 27 timesteps\n",
            "Episode 71 finished after 33 timesteps\n",
            "Episode 72 finished after 10 timesteps\n",
            "Episode 73 finished after 18 timesteps\n",
            "Episode 74 finished after 15 timesteps\n",
            "Episode 75 finished after 19 timesteps\n",
            "Episode 76 finished after 43 timesteps\n",
            "Episode 77 finished after 27 timesteps\n",
            "Episode 78 finished after 12 timesteps\n",
            "Episode 79 finished after 28 timesteps\n",
            "Episode 80 finished after 21 timesteps\n",
            "Episode 81 finished after 18 timesteps\n",
            "Episode 82 finished after 16 timesteps\n",
            "Episode 83 finished after 26 timesteps\n",
            "Episode 84 finished after 49 timesteps\n",
            "Episode 85 finished after 22 timesteps\n",
            "Episode 86 finished after 14 timesteps\n",
            "Episode 87 finished after 32 timesteps\n",
            "Episode 88 finished after 11 timesteps\n",
            "Episode 89 finished after 31 timesteps\n",
            "Episode 90 finished after 16 timesteps\n",
            "Episode 91 finished after 31 timesteps\n",
            "Episode 92 finished after 23 timesteps\n",
            "Episode 93 finished after 12 timesteps\n",
            "Episode 94 finished after 27 timesteps\n",
            "Episode 95 finished after 15 timesteps\n",
            "Episode 96 finished after 24 timesteps\n",
            "Episode 97 finished after 13 timesteps\n",
            "Episode 98 finished after 17 timesteps\n",
            "Episode 99 finished after 25 timesteps\n",
            "Episode 100 finished after 22 timesteps\n"
          ]
        },
        {
          "output_type": "execute_result",
          "data": {
            "text/plain": [
              "20.71"
            ]
          },
          "metadata": {},
          "execution_count": 10
        }
      ],
      "source": [
        "test_agent(env, agent=False, n_episodes=100)"
      ]
    },
    {
      "cell_type": "markdown",
      "metadata": {
        "id": "8bzNtyllmufS"
      },
      "source": [
        "Как видно, наш случайный агент выступает не очень хорошо и в среднем может удержать шест всего около 20 шагов."
      ]
    },
    {
      "cell_type": "markdown",
      "metadata": {
        "id": "BNcZLQpzmufU"
      },
      "source": [
        "Напишем функцию для визуализации агента и посмотрим на случайного агента."
      ]
    },
    {
      "cell_type": "code",
      "execution_count": 11,
      "metadata": {
        "id": "GgThoRPgoMcs"
      },
      "outputs": [],
      "source": [
        "def agent_viz(env=\"CartPole-v0\", agent=None):\n",
        "    \"\"\"Visualizes agent play in the given environment.\n",
        "    \n",
        "    Args:\n",
        "        env: The environment for agent to play in. Defaults to CartPole-v0.\n",
        "        agent: The agent to play with. Defaults to None - \n",
        "            in this case random agent is used.\n",
        "\n",
        "    Returns:\n",
        "        Nothing is returned. Visualization is created and can be showed\n",
        "            with show_video() function.\n",
        "    \"\"\"\n",
        "    env = wrap_env(gym.make(env))\n",
        "    observation = env.reset()\n",
        "    while True:\n",
        "        env.render() \n",
        "        if agent:\n",
        "            with torch.no_grad():\n",
        "                probs = agent(torch.FloatTensor(observation).to(device))\n",
        "                dist = Categorical(probs)\n",
        "                action = dist.sample().item()\n",
        "        else:\n",
        "            action = env.action_space.sample()\n",
        "        observation, reward, done, info = env.step(action)\n",
        "        if done:\n",
        "            break\n",
        "            \n",
        "    env.close()"
      ]
    },
    {
      "cell_type": "code",
      "execution_count": 12,
      "metadata": {
        "id": "b5FLllE_pHSf",
        "colab": {
          "base_uri": "https://localhost:8080/",
          "height": 421
        },
        "outputId": "4472747a-2c7b-415f-a533-77ee1d23b5b7"
      },
      "outputs": [
        {
          "output_type": "display_data",
          "data": {
            "text/plain": [
              "<IPython.core.display.HTML object>"
            ],
            "text/html": [
              "<video alt=\"test\" autoplay \n",
              "                loop controls style=\"height: 400px;\">\n",
              "                <source src=\"data:video/mp4;base64,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\" type=\"video/mp4\" />\n",
              "             </video>"
            ]
          },
          "metadata": {}
        }
      ],
      "source": [
        "agent_viz()\n",
        "show_video()"
      ]
    },
    {
      "cell_type": "markdown",
      "metadata": {
        "id": "hpQF0xgJmufW"
      },
      "source": [
        "Попробуем применить обучение с подкреплением и алгоритм REINFORCE для того, чтобы в среднем за 100 эпиздов мы держали шест не менее 195 шагов."
      ]
    },
    {
      "cell_type": "markdown",
      "metadata": {
        "id": "M2SkO__WmufX"
      },
      "source": [
        "## REINFORCE"
      ]
    },
    {
      "cell_type": "markdown",
      "metadata": {
        "id": "QW95huRpmufY"
      },
      "source": [
        "Вспомним, что из себя представляет алгоритм REINFORCE (Sutton & Barto) <img src=\"//i.imgur.com/bnASTrY.png\" width=\"700\">"
      ]
    },
    {
      "cell_type": "markdown",
      "metadata": {
        "id": "CFD7oH9mmufZ"
      },
      "source": [
        "1. Инициализуем политику (в качестве политики мы будем использовать глубокую нейронную сеть).\n",
        "2. \"Играем\" в среде эпизод, используя нашу политику, или несколько (мы будем использовать последний вариант) и собираем данные о состояниях, действиях и полученных наградах. \n",
        "3. Для каждого состояния в собранных эпизодах вычисляем сумму дисконтированных наград, полученных из этого состояния, а также логорифм правдоподобия предпринятого действия в этом состоянии для нашей политики.\n",
        "4. Обновляем параметры нашей политики по формуле на схеме."
      ]
    },
    {
      "cell_type": "markdown",
      "metadata": {
        "id": "Zjhox1Rdmufa"
      },
      "source": [
        "### Политика"
      ]
    },
    {
      "cell_type": "markdown",
      "metadata": {
        "id": "v5KOdiJrmufb"
      },
      "source": [
        "Наша политика должна принимать на вход состояние среды, а на выходе выдавать распределение по действиям, которые мы можем осуществлять в среде.\n",
        "\n",
        "**Задание:** Создать класс нейронной сети со следующей архитектурой ```Linear -> ReLU -> Linear -> Softmax```. Параметрами инициализации должны служить размерности пространства состояний, пространства действий и размер скрытого слоя."
      ]
    },
    {
      "cell_type": "code",
      "execution_count": 13,
      "metadata": {
        "id": "BSbzinGQidFm"
      },
      "outputs": [],
      "source": [
        "import torch\n",
        "\n",
        "class Policy(nn.Module):\n",
        "    \"\"\"Policy to be used by agent.\n",
        "\n",
        "    Attributes:\n",
        "        state_size: Dimention of the state space of the environment.\n",
        "        act_size: Dimention of the action space of the environment.\n",
        "        hidden_size: Dimention of the hidden state of the agent's policy.\n",
        "    \"\"\"\n",
        "    def __init__(self, state_size, act_size, hidden_size):\n",
        "        super().__init__()\n",
        "        \n",
        "        self.state_size = state_size\n",
        "        self.act_size = act_size\n",
        "        self.hidden_size = hidden_size\n",
        "        \n",
        "        self.fc1 = nn.Linear(state_size, hidden_size)\n",
        "        self.relu = nn.ReLU(inplace=True)\n",
        "        self.fc2 = nn.Linear(hidden_size, act_size)\n",
        "        self.sm = nn.Softmax(dim=1)\n",
        "    \n",
        "    def forward(self, inputs):\n",
        "        inputs = inputs.reshape((-1,self.state_size))\n",
        "        output = self.fc1(inputs)\n",
        "        output = self.relu(output)\n",
        "        output = self.fc2(output)\n",
        "        return self.sm(output).view(-1)"
      ]
    },
    {
      "cell_type": "markdown",
      "metadata": {
        "id": "E0bYNhJ_mufh"
      },
      "source": [
        "### Оценка правдоподобия и расчет суммы дисконтированных наград"
      ]
    },
    {
      "cell_type": "markdown",
      "metadata": {
        "id": "QMZIoW8pmufi"
      },
      "source": [
        "**Задание:** Напишем вспомогательная функцию, которая принимает на вход политику, батч траекторий и фактор дисконтирования, и должна вернуть следующие величины: \n",
        "* правдоподобие действия на каждом шаге на траектории посчитанные для всего батча;\n",
        "* дисконтированные суммы наград (reward-to-go) из каждого состояния среды на траектории посчитанные для всего батча;"
      ]
    },
    {
      "cell_type": "markdown",
      "metadata": {
        "id": "rcs_Xi-jmufl"
      },
      "source": [
        "**Hint**: Представим батч траекторий как ```list```, в котром также хранится ```list``` для каждой траектории, в котором каждый шаг хранится, как ```namedtuple```:\n",
        "```transition = collections.namedtuple(\"transition\", [\"state\", \"action\", \"reward\"])```"
      ]
    },
    {
      "cell_type": "code",
      "execution_count": 14,
      "metadata": {
        "id": "eGHfushNmufl"
      },
      "outputs": [],
      "source": [
        "def process_traj_batch(policy, batch, discount):\n",
        "    \"\"\"Computes log probabilities for each action \n",
        "        and rewards-to-go for each state in the batch of trajectories.\n",
        "    \n",
        "    Args:\n",
        "        policy: Policy of the agent.\n",
        "        batch (list of list of collections.namedtuple): Batch of trajectories.\n",
        "        discount (float): Discount factor for rewards-to-go calculation.\n",
        "\n",
        "    Returns:\n",
        "        log_probs (list of torch.FloatTensor): List of log probabilities for\n",
        "            each action in the batch of trajectories.\n",
        "        returns (list of rewards-to-go): List of rewards-to-go for \n",
        "            each state in the batch of trajectories.\n",
        "    \"\"\"\n",
        "    batch_rewards = []\n",
        "    batch_probs = []\n",
        "    \n",
        "    for traj in batch:\n",
        "        rewards = [0]*len(traj)\n",
        "        \n",
        "        for i in range(len(traj)):           \n",
        "            probs_step = policy.forward(traj[i].state)\n",
        "            prob_action = probs_step[traj[i].action.item()]\n",
        "            batch_probs.append(torch.log(prob_action))\n",
        "        \n",
        "            for j in range(i, len(traj)):\n",
        "                rewards[i] += traj[j].reward*discount**(j-i)\n",
        "            \n",
        "        batch_rewards.extend(rewards)\n",
        "        \n",
        "    return batch_probs, batch_rewards"
      ]
    },
    {
      "cell_type": "markdown",
      "metadata": {
        "id": "mp6xKRWXmufp"
      },
      "source": [
        "Ваша реализация функции должна проходить следующий тест."
      ]
    },
    {
      "cell_type": "code",
      "execution_count": 15,
      "metadata": {
        "id": "qVJnolh-mufq"
      },
      "outputs": [],
      "source": [
        "def test_process_traj_batch(process_traj_batch):\n",
        "    \n",
        "    transition = collections.namedtuple(\"transition\", [\"state\", \"action\", \"reward\"])\n",
        "    \n",
        "    class HelperPolicy(nn.Module):\n",
        "        def __init__(self):\n",
        "            super(HelperPolicy, self).__init__()\n",
        "        \n",
        "            self.act = nn.Sequential(\n",
        "                nn.Linear(4, 2),\n",
        "                nn.Softmax(dim=0),\n",
        "            )\n",
        "        \n",
        "        def forward(self, x):\n",
        "            return self.act(x)\n",
        "        \n",
        "    policy = HelperPolicy()\n",
        "    \n",
        "    for name, param in policy.named_parameters():\n",
        "        if name == \"act.0.weight\":\n",
        "            param.data = torch.tensor([[1.7492, -0.2471, 0.3310, 1.1494],\n",
        "                                       [0.6171, -0.6026, 0.5025, -0.3196]])\n",
        "        else:\n",
        "            param.data = torch.tensor([0.0262, 0.1882])\n",
        "            \n",
        "    batch = [\n",
        "        [\n",
        "            transition(state=torch.tensor([ 0.0462, -0.0018,  0.0372,  0.0063]), action=torch.tensor(0), reward=1.0), \n",
        "            transition(state=torch.tensor([ 0.0462, -0.1975,  0.0373,  0.3105]), action=torch.tensor(1), reward=1.0), \n",
        "            transition(state=torch.tensor([ 0.0422, -0.0029,  0.0435,  0.0298]), action=torch.tensor(0), reward=1.0), \n",
        "            transition(state=torch.tensor([ 0.0422, -0.1986,  0.0441,  0.3359]), action=torch.tensor(0), reward=1.0), \n",
        "        ],\n",
        "        [\n",
        "            transition(state=torch.tensor([ 0.0382, -0.3943,  0.0508,  0.6421]), action=torch.tensor(1), reward=1.0), \n",
        "            transition(state=torch.tensor([ 0.0303, -0.2000,  0.0637,  0.3659]), action=torch.tensor(1), reward=1.0), \n",
        "            transition(state=torch.tensor([ 0.0263, -0.0058,  0.0710,  0.0939]), action=torch.tensor(1), reward=1.0), \n",
        "            transition(state=torch.tensor([ 0.0262,  0.1882,  0.0729, -0.1755]), action=torch.tensor(0), reward=1.0)\n",
        "        ]\n",
        "    ]\n",
        "    \n",
        "    log_probs, returns = process_traj_batch(policy, batch, 0.9)\n",
        "    assert sum(log_probs).item() == -6.3940582275390625, \"Log probabilities calculation is incorrect!!!\"\n",
        "    assert sum(returns) == 18.098, \"Log probabilities calculation is incorrect!!!\"\n",
        "    print(\"Correct!\")"
      ]
    },
    {
      "cell_type": "code",
      "execution_count": 16,
      "metadata": {
        "id": "_qKrJpyBmufu",
        "colab": {
          "base_uri": "https://localhost:8080/"
        },
        "outputId": "abe6d4d3-162a-4c4e-8e7c-0a9f6753567d"
      },
      "outputs": [
        {
          "output_type": "stream",
          "name": "stdout",
          "text": [
            "Correct!\n"
          ]
        }
      ],
      "source": [
        "test_process_traj_batch(process_traj_batch)"
      ]
    },
    {
      "cell_type": "markdown",
      "metadata": {
        "id": "7_y4MJPxmufz"
      },
      "source": [
        "### Вспомогательные функции и гиперпараметры"
      ]
    },
    {
      "cell_type": "markdown",
      "metadata": {
        "id": "PKF5itlpmuf0"
      },
      "source": [
        "Функция для расчета скользящего среднего - ее мы будем использовать для визуализации наград по эпизодам."
      ]
    },
    {
      "cell_type": "code",
      "execution_count": 17,
      "metadata": {
        "id": "tHgXs9aPmuf2"
      },
      "outputs": [],
      "source": [
        "moving_average = lambda x, **kw: pd.DataFrame({'x':np.asarray(x)}).x.ewm(**kw).mean().values"
      ]
    },
    {
      "cell_type": "markdown",
      "metadata": {
        "id": "P3oqmQmxmuf6"
      },
      "source": [
        "Определим также гиперпараметры."
      ]
    },
    {
      "cell_type": "code",
      "execution_count": 18,
      "metadata": {
        "id": "cFSLjGjOms0m"
      },
      "outputs": [],
      "source": [
        "STATE_SIZE  = env.observation_space.shape[0] # размерность пространства состояний среды\n",
        "ACT_SIZE = env.action_space.n # размерность пространства действий среды\n",
        "HIDDEN_SIZE = 256 # размер скрытого слоя для политики\n",
        "NUM_EPISODES = 1000#1000 # количество эпиздов, которые будут сыграны для обучения\n",
        "DISCOUNT = 0.99 # фактор дисконтирования\n",
        "TRAIN_EVERY = 20"
      ]
    },
    {
      "cell_type": "markdown",
      "metadata": {
        "id": "d1RZfo_1muf-"
      },
      "source": [
        "Инициализуем политику и алгоритм оптимизации - мы будем использовать Adam c праметрами по умолчанию."
      ]
    },
    {
      "cell_type": "code",
      "execution_count": 19,
      "metadata": {
        "id": "zEKqg4Ykmuf_"
      },
      "outputs": [],
      "source": [
        "policy = Policy(STATE_SIZE, ACT_SIZE, HIDDEN_SIZE).to(device)\n",
        "optimizer = Adam(policy.parameters())"
      ]
    },
    {
      "cell_type": "code",
      "execution_count": 20,
      "metadata": {
        "id": "EIbRMh3MmugC"
      },
      "outputs": [],
      "source": [
        "transition = collections.namedtuple(\"transition\", [\"state\", \"action\", \"reward\"])"
      ]
    },
    {
      "cell_type": "markdown",
      "metadata": {
        "id": "jRRCJTnimugE"
      },
      "source": [
        "### Основной цикл обучения"
      ]
    },
    {
      "cell_type": "markdown",
      "metadata": {
        "id": "FcQ4-JMymugE"
      },
      "source": [
        "Теперь, когда мы опредлели вспомогательные функции, то нам следует написать основной цикл обучения агент.\n",
        "В цикле должно происходить следующее:"
      ]
    },
    {
      "cell_type": "markdown",
      "metadata": {
        "id": "1wih2vIYmugG"
      },
      "source": [
        "1. Играем количество эпизодов, определенное в гиперпараметре ```NUM_EPISODES```.\n",
        "2. В каждом эпизоде сохраняем информацию о шагах на траектории - состояние, действие и награду.\n",
        "3. В конце каждого эпизода сохраняем вышеуказанную информацию о траектории. \n",
        "4. Периодически обучаемся на собранных эпизодах каждые ```TRAIN_EVERY``` эпизодов:  \n",
        "    4.1. Считаем для собранного батча для каждого шага на трактории правдоподобие и сумму дисконтированных наград.  \n",
        "    4.2. Обновляем параметры политики агента по формуле, приведенной на схеме."
      ]
    },
    {
      "cell_type": "markdown",
      "metadata": {
        "id": "gb1eIuJqmugI"
      },
      "source": [
        "**Задание:** Реализовать алгоритм обучения, описанный на схеме и в тексте выше. Шаблон кода алгоритма представлен ниже. При этом следует сохранять сумму ревордов для каждого эпизода в переменную ```returns_history```. Алгоритму потребуется около 1000 эпизодов игры, для того чтобы научиться играть в игру (если после 1000 эпизодов агент играет немного хуже, чем для победы в игре, попробуйте обучать его немного дольше или установите критерий останова - когда средняя награда за 100 последних эпизодов превышает значение в ```env.spec.reward_threshold``` )"
      ]
    },
    {
      "cell_type": "code",
      "execution_count": 21,
      "metadata": {
        "id": "cvEwjezan5tl",
        "colab": {
          "base_uri": "https://localhost:8080/",
          "height": 1000
        },
        "outputId": "a4c2ace5-d9fb-46d1-cb30-28db708ba893"
      },
      "outputs": [
        {
          "output_type": "display_data",
          "data": {
            "text/plain": [
              "<Figure size 864x432 with 1 Axes>"
            ],
            "image/png": "[encoded data removed]"
          },
          "metadata": {
            "needs_background": "light"
          }
        },
        {
          "output_type": "stream",
          "name": "stdout",
          "text": [
            "Episode 952 finished after 201 timesteps\n",
            "Episode 953 finished after 201 timesteps\n",
            "Episode 954 finished after 201 timesteps\n",
            "Episode 955 finished after 201 timesteps\n",
            "Episode 956 finished after 201 timesteps\n",
            "Episode 957 finished after 201 timesteps\n",
            "Episode 958 finished after 201 timesteps\n",
            "Episode 959 finished after 201 timesteps\n",
            "Episode 960 finished after 201 timesteps\n",
            "Episode 961 finished after 201 timesteps\n",
            "Episode 962 finished after 201 timesteps\n",
            "Episode 963 finished after 201 timesteps\n",
            "Episode 964 finished after 201 timesteps\n",
            "Episode 965 finished after 201 timesteps\n",
            "Episode 966 finished after 201 timesteps\n",
            "Episode 967 finished after 201 timesteps\n",
            "Episode 968 finished after 201 timesteps\n",
            "Episode 969 finished after 201 timesteps\n",
            "Episode 970 finished after 201 timesteps\n",
            "Episode 971 finished after 201 timesteps\n",
            "Episode 972 finished after 201 timesteps\n",
            "Episode 973 finished after 201 timesteps\n",
            "Episode 974 finished after 201 timesteps\n",
            "Episode 975 finished after 201 timesteps\n",
            "Episode 976 finished after 201 timesteps\n",
            "Episode 977 finished after 201 timesteps\n",
            "Episode 978 finished after 201 timesteps\n",
            "Episode 979 finished after 201 timesteps\n",
            "Episode 980 finished after 201 timesteps\n",
            "Episode 981 finished after 201 timesteps\n",
            "Episode 982 finished after 201 timesteps\n",
            "Episode 983 finished after 201 timesteps\n",
            "Episode 984 finished after 201 timesteps\n",
            "Episode 985 finished after 201 timesteps\n",
            "Episode 986 finished after 201 timesteps\n",
            "Episode 987 finished after 201 timesteps\n",
            "Episode 988 finished after 201 timesteps\n",
            "Episode 989 finished after 201 timesteps\n",
            "Episode 990 finished after 201 timesteps\n",
            "Episode 991 finished after 201 timesteps\n",
            "Episode 992 finished after 201 timesteps\n",
            "Episode 993 finished after 201 timesteps\n",
            "Episode 994 finished after 201 timesteps\n",
            "Episode 995 finished after 201 timesteps\n",
            "Episode 996 finished after 201 timesteps\n",
            "Episode 997 finished after 201 timesteps\n",
            "Episode 998 finished after 201 timesteps\n",
            "Episode 999 finished after 201 timesteps\n",
            "Episode 1000 finished after 201 timesteps\n"
          ]
        }
      ],
      "source": [
        "returns_history = []\n",
        "traj_batch = []\n",
        "\n",
        "for i in range(NUM_EPISODES):\n",
        "        \n",
        "    # TO DO\n",
        "    observation = env.reset()\n",
        "    episode_reward = 0\n",
        "    t = 0\n",
        "    episode_traj = []\n",
        "    \n",
        "    while True:\n",
        "        with torch.no_grad():\n",
        "            observation = torch.FloatTensor(observation).cuda()\n",
        "            prev_observation = observation\n",
        "                        \n",
        "            probs = policy(observation)            \n",
        "            dist = Categorical(probs)\n",
        "            action = dist.sample().item()\n",
        "            \n",
        "            observation, reward, done, info = env.step(action)\n",
        "            \n",
        "            episode_traj.append(transition(prev_observation, torch.tensor(action).cuda(), reward))\n",
        "            episode_reward += reward\n",
        "            t += 1\n",
        "            if done:\n",
        "                print(\"Episode {} finished after {} timesteps\".format(i+1, t+1))\n",
        "                break\n",
        "    \n",
        "        \n",
        "    returns_history.append(episode_reward)    \n",
        "    traj_batch.append(episode_traj)\n",
        "    \n",
        "    env.close()\n",
        "    \n",
        "    if i % TRAIN_EVERY :#== 0:        \n",
        "        log_probs, returns = process_traj_batch(policy, traj_batch, DISCOUNT)\n",
        "        loss = -(torch.stack(log_probs) * torch.FloatTensor(returns).to(device)).sum()\n",
        "        optimizer.zero_grad()\n",
        "        loss.backward()\n",
        "        optimizer.step()\n",
        "        traj_batch = []\n",
        "    \n",
        "    if i % 50 == 0:\n",
        "        clear_output(True)\n",
        "        plt.figure(figsize=[12, 6])\n",
        "        plt.title('Returns'); plt.grid()\n",
        "        plt.scatter(np.arange(len(returns_history)), returns_history, alpha=0.1)\n",
        "        plt.plot(moving_average(returns_history, span=10, min_periods=10))\n",
        "        plt.show()"
      ]
    },
    {
      "cell_type": "markdown",
      "metadata": {
        "id": "Be9Zh-MamugN"
      },
      "source": [
        "Протестируем обученного агента."
      ]
    },
    {
      "cell_type": "code",
      "execution_count": 22,
      "metadata": {
        "id": "-ry9g_aBmugO",
        "colab": {
          "base_uri": "https://localhost:8080/"
        },
        "outputId": "7ecbdc1c-f2b8-41d0-a955-1ed80f0b019f"
      },
      "outputs": [
        {
          "output_type": "stream",
          "name": "stdout",
          "text": [
            "Episode 1 finished after 201 timesteps\n",
            "Episode 2 finished after 201 timesteps\n",
            "Episode 3 finished after 201 timesteps\n",
            "Episode 4 finished after 201 timesteps\n",
            "Episode 5 finished after 201 timesteps\n",
            "Episode 6 finished after 201 timesteps\n",
            "Episode 7 finished after 201 timesteps\n",
            "Episode 8 finished after 201 timesteps\n",
            "Episode 9 finished after 201 timesteps\n",
            "Episode 10 finished after 201 timesteps\n",
            "Episode 11 finished after 201 timesteps\n",
            "Episode 12 finished after 201 timesteps\n",
            "Episode 13 finished after 201 timesteps\n",
            "Episode 14 finished after 201 timesteps\n",
            "Episode 15 finished after 201 timesteps\n",
            "Episode 16 finished after 201 timesteps\n",
            "Episode 17 finished after 184 timesteps\n",
            "Episode 18 finished after 201 timesteps\n",
            "Episode 19 finished after 201 timesteps\n",
            "Episode 20 finished after 201 timesteps\n",
            "Episode 21 finished after 201 timesteps\n",
            "Episode 22 finished after 201 timesteps\n",
            "Episode 23 finished after 201 timesteps\n",
            "Episode 24 finished after 201 timesteps\n",
            "Episode 25 finished after 201 timesteps\n",
            "Episode 26 finished after 132 timesteps\n",
            "Episode 27 finished after 201 timesteps\n",
            "Episode 28 finished after 201 timesteps\n",
            "Episode 29 finished after 201 timesteps\n",
            "Episode 30 finished after 201 timesteps\n",
            "Episode 31 finished after 201 timesteps\n",
            "Episode 32 finished after 201 timesteps\n",
            "Episode 33 finished after 201 timesteps\n",
            "Episode 34 finished after 201 timesteps\n",
            "Episode 35 finished after 201 timesteps\n",
            "Episode 36 finished after 201 timesteps\n",
            "Episode 37 finished after 201 timesteps\n",
            "Episode 38 finished after 83 timesteps\n",
            "Episode 39 finished after 201 timesteps\n",
            "Episode 40 finished after 201 timesteps\n",
            "Episode 41 finished after 201 timesteps\n",
            "Episode 42 finished after 201 timesteps\n",
            "Episode 43 finished after 201 timesteps\n",
            "Episode 44 finished after 201 timesteps\n",
            "Episode 45 finished after 201 timesteps\n",
            "Episode 46 finished after 201 timesteps\n",
            "Episode 47 finished after 201 timesteps\n",
            "Episode 48 finished after 201 timesteps\n",
            "Episode 49 finished after 201 timesteps\n",
            "Episode 50 finished after 189 timesteps\n",
            "Episode 51 finished after 201 timesteps\n",
            "Episode 52 finished after 201 timesteps\n",
            "Episode 53 finished after 201 timesteps\n",
            "Episode 54 finished after 201 timesteps\n",
            "Episode 55 finished after 201 timesteps\n",
            "Episode 56 finished after 201 timesteps\n",
            "Episode 57 finished after 201 timesteps\n",
            "Episode 58 finished after 201 timesteps\n",
            "Episode 59 finished after 201 timesteps\n",
            "Episode 60 finished after 137 timesteps\n",
            "Episode 61 finished after 201 timesteps\n",
            "Episode 62 finished after 201 timesteps\n",
            "Episode 63 finished after 201 timesteps\n",
            "Episode 64 finished after 201 timesteps\n",
            "Episode 65 finished after 201 timesteps\n",
            "Episode 66 finished after 201 timesteps\n",
            "Episode 67 finished after 201 timesteps\n",
            "Episode 68 finished after 201 timesteps\n",
            "Episode 69 finished after 201 timesteps\n",
            "Episode 70 finished after 201 timesteps\n",
            "Episode 71 finished after 201 timesteps\n",
            "Episode 72 finished after 201 timesteps\n",
            "Episode 73 finished after 201 timesteps\n",
            "Episode 74 finished after 128 timesteps\n",
            "Episode 75 finished after 201 timesteps\n",
            "Episode 76 finished after 201 timesteps\n",
            "Episode 77 finished after 201 timesteps\n",
            "Episode 78 finished after 201 timesteps\n",
            "Episode 79 finished after 201 timesteps\n",
            "Episode 80 finished after 201 timesteps\n",
            "Episode 81 finished after 201 timesteps\n",
            "Episode 82 finished after 201 timesteps\n",
            "Episode 83 finished after 201 timesteps\n",
            "Episode 84 finished after 201 timesteps\n",
            "Episode 85 finished after 201 timesteps\n",
            "Episode 86 finished after 201 timesteps\n",
            "Episode 87 finished after 201 timesteps\n",
            "Episode 88 finished after 201 timesteps\n",
            "Episode 89 finished after 201 timesteps\n",
            "Episode 90 finished after 79 timesteps\n",
            "Episode 91 finished after 201 timesteps\n",
            "Episode 92 finished after 201 timesteps\n",
            "Episode 93 finished after 201 timesteps\n",
            "Episode 94 finished after 201 timesteps\n",
            "Episode 95 finished after 201 timesteps\n",
            "Episode 96 finished after 201 timesteps\n",
            "Episode 97 finished after 201 timesteps\n",
            "Episode 98 finished after 201 timesteps\n",
            "Episode 99 finished after 201 timesteps\n",
            "Episode 100 finished after 201 timesteps\n"
          ]
        },
        {
          "output_type": "execute_result",
          "data": {
            "text/plain": [
              "195.25"
            ]
          },
          "metadata": {},
          "execution_count": 22
        }
      ],
      "source": [
        "test_agent(env, agent=policy, n_episodes=100)"
      ]
    },
    {
      "cell_type": "markdown",
      "metadata": {
        "id": "rf18pOwCmugS"
      },
      "source": [
        "Обученный агент должен приближаться к искомому значению средней награды за 100 эпизодов 195."
      ]
    },
    {
      "cell_type": "markdown",
      "metadata": {
        "id": "Gk3bQdF_mugT"
      },
      "source": [
        "Визуализируем обученного агента."
      ]
    },
    {
      "cell_type": "code",
      "execution_count": 23,
      "metadata": {
        "id": "c6QvXvwUsct6",
        "colab": {
          "base_uri": "https://localhost:8080/",
          "height": 421
        },
        "outputId": "4bc55211-afd2-406a-9f23-677396254bac"
      },
      "outputs": [
        {
          "output_type": "display_data",
          "data": {
            "text/plain": [
              "<IPython.core.display.HTML object>"
            ],
            "text/html": [
              "<video alt=\"test\" autoplay \n",
              "                loop controls style=\"height: 400px;\">\n",
              "                <source src=\"data:video/mp4;base64,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\" type=\"video/mp4\" />\n",
              "             </video>"
            ]
          },
          "metadata": {}
        }
      ],
      "source": [
        "agent_viz(agent=policy)\n",
        "show_video()"
      ]
    },
    {
      "cell_type": "markdown",
      "metadata": {
        "id": "YKkrymnnmugU"
      },
      "source": [
        "Как видно, агент выучил довольно хорошую стратегию для игры и способен долго удерживать шест."
      ]
    },
    {
      "cell_type": "markdown",
      "metadata": {
        "id": "NHxdzJsQmugV"
      },
      "source": [
        "### REINFORCE with baselines (Опционально)"
      ]
    },
    {
      "cell_type": "markdown",
      "metadata": {
        "id": "QM0DmpwlmugX"
      },
      "source": [
        "В лекциях вы слышали, что при расчете градиентов для обновления параметров политики агента мы можем вычесть из суммы дисконтированных наград ```baseline``` для уменьшения дисперсии градиентов и ускорения сходимости обучения - такой алгоритм называется REINFORCE with baselines. В качестве ```baseline``` мы можем использовать другую нейронную сеть, которая будет оценивать сумму дисконтированных наград из данного состояния *V(s)*. "
      ]
    },
    {
      "cell_type": "markdown",
      "metadata": {
        "id": "jImFlpefmugX"
      },
      "source": [
        "Схема алгоритма REINFORCE with baselines (Sutton & Barto) <img src=\"//i.imgur.com/j3BcbHP.png\" width=\"700\">"
      ]
    },
    {
      "cell_type": "markdown",
      "metadata": {
        "id": "ofDdKiKJmugY"
      },
      "source": [
        "**Задание**: Включите в уже разработанный алгоритм вторую нейронную сеть для оценки суммы дисконтированных наград *V(s)*. Используйте разницу между фактической суммой дисконтированных наград и оценкой в формуле функции потерь политики. В качестве функции потерь для *V(s)* используйте ```MSELoss```. Оцените скорость сходимости нового алгоритма."
      ]
    }
  ],
  "metadata": {
    "accelerator": "GPU",
    "colab": {
      "collapsed_sections": [],
      "name": "REINFORCE (1).ipynb",
      "provenance": []
    },
    "kernelspec": {
      "display_name": "Python 3",
      "language": "python",
      "name": "python3"
    },
    "language_info": {
      "codemirror_mode": {
        "name": "ipython",
        "version": 3
      },
      "file_extension": ".py",
      "mimetype": "text/x-python",
      "name": "python",
      "nbconvert_exporter": "python",
      "pygments_lexer": "ipython3",
      "version": "3.7.0"
    }
  },
  "nbformat": 4,
  "nbformat_minor": 0
}