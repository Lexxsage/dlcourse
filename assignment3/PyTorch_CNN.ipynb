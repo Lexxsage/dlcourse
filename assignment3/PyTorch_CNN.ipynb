{
  "cells": [
    {
      "cell_type": "markdown",
      "metadata": {
        "id": "dCSwn2ihD-Ca"
      },
      "source": [
        "# Задание 3.2 - сверточные нейронные сети (CNNs) в PyTorch\n",
        "\n",
        "Это упражнение мы буде выполнять в Google Colab - https://colab.research.google.com/  \n",
        "Google Colab позволяет запускать код в notebook в облаке Google, где можно воспользоваться бесплатным GPU!  \n",
        "\n",
        "Авторы курса благодарят компанию Google и надеятся, что праздник не закончится.\n",
        "\n",
        "Туториал по настройке Google Colab:  \n",
        "https://medium.com/deep-learning-turkey/google-colab-free-gpu-tutorial-e113627b9f5d  \n",
        "(Keras инсталлировать не нужно, наш notebook сам установит PyTorch)\n"
      ]
    },
    {
      "cell_type": "code",
      "execution_count": 1,
      "metadata": {
        "colab": {
          "base_uri": "https://localhost:8080/"
        },
        "id": "FcXBeP1O7cnY",
        "outputId": "3e7b900c-f13b-4d90-ca5c-5e28df4ac148"
      },
      "outputs": [
        {
          "output_type": "stream",
          "name": "stdout",
          "text": [
            "Requirement already satisfied: torch in /usr/local/lib/python3.7/dist-packages (1.10.0+cu111)\n",
            "Requirement already satisfied: torchvision in /usr/local/lib/python3.7/dist-packages (0.11.1+cu111)\n",
            "Requirement already satisfied: typing-extensions in /usr/local/lib/python3.7/dist-packages (from torch) (3.10.0.2)\n",
            "Requirement already satisfied: numpy in /usr/local/lib/python3.7/dist-packages (from torchvision) (1.21.5)\n",
            "Requirement already satisfied: pillow!=8.3.0,>=5.3.0 in /usr/local/lib/python3.7/dist-packages (from torchvision) (7.1.2)\n",
            "--2022-03-27 15:48:10--  http://ufldl.stanford.edu/housenumbers/train_32x32.mat\n",
            "Resolving ufldl.stanford.edu (ufldl.stanford.edu)... 171.64.68.10\n",
            "Connecting to ufldl.stanford.edu (ufldl.stanford.edu)|171.64.68.10|:80... connected.\n",
            "HTTP request sent, awaiting response... 200 OK\n",
            "Length: 182040794 (174M) [text/plain]\n",
            "Saving to: ‘train_32x32.mat’\n",
            "\n",
            "train_32x32.mat     100%[===================>] 173.61M  20.9MB/s    in 12s     \n",
            "\n",
            "2022-03-27 15:48:22 (14.8 MB/s) - ‘train_32x32.mat’ saved [182040794/182040794]\n",
            "\n",
            "--2022-03-27 15:48:22--  http://ufldl.stanford.edu/housenumbers/test_32x32.mat\n",
            "Reusing existing connection to ufldl.stanford.edu:80.\n",
            "HTTP request sent, awaiting response... 200 OK\n",
            "Length: 64275384 (61M) [text/plain]\n",
            "Saving to: ‘test_32x32.mat’\n",
            "\n",
            "test_32x32.mat      100%[===================>]  61.30M  21.8MB/s    in 2.8s    \n",
            "\n",
            "2022-03-27 15:48:25 (21.8 MB/s) - ‘test_32x32.mat’ saved [64275384/64275384]\n",
            "\n",
            "FINISHED --2022-03-27 15:48:25--\n",
            "Total wall clock time: 15s\n",
            "Downloaded: 2 files, 235M in 15s (16.2 MB/s)\n"
          ]
        }
      ],
      "source": [
        "# Intstall PyTorch and download data\n",
        "!pip3 install torch torchvision\n",
        "\n",
        "!wget -c http://ufldl.stanford.edu/housenumbers/train_32x32.mat http://ufldl.stanford.edu/housenumbers/test_32x32.mat"
      ]
    },
    {
      "cell_type": "code",
      "execution_count": 2,
      "metadata": {
        "id": "-afwWw-Q85vD"
      },
      "outputs": [],
      "source": [
        "from collections import namedtuple\n",
        "\n",
        "import matplotlib.pyplot as plt\n",
        "import numpy as np\n",
        "import PIL\n",
        "import torch\n",
        "import torch.nn as nn\n",
        "import torch.optim as optim\n",
        "import torchvision.datasets as dset\n",
        "from torch.utils.data.sampler import SubsetRandomSampler\n",
        "\n",
        "from torchvision import transforms"
      ]
    },
    {
      "cell_type": "code",
      "execution_count": 3,
      "metadata": {
        "id": "NNU-OD9O9ltP"
      },
      "outputs": [],
      "source": [
        "device = torch.device(\"cuda:0\") # Let's make sure GPU is available!"
      ]
    },
    {
      "cell_type": "markdown",
      "metadata": {
        "id": "Xy0XiMn3D-Ck"
      },
      "source": [
        "# Загружаем данные"
      ]
    },
    {
      "cell_type": "code",
      "execution_count": 4,
      "metadata": {
        "id": "YAvkoRx-9FsP"
      },
      "outputs": [],
      "source": [
        "# First, lets load the dataset\n",
        "data_train = dset.SVHN('./', \n",
        "                       transform=transforms.Compose([\n",
        "                           transforms.ToTensor(),\n",
        "                           transforms.Normalize(mean=[0.43,0.44,0.47],\n",
        "                                               std=[0.20,0.20,0.20])                           \n",
        "                       ])\n",
        "                      )\n",
        "data_test = dset.SVHN('./', split='test', transform=transforms.Compose([\n",
        "                           transforms.ToTensor(),\n",
        "                           transforms.Normalize(mean=[0.43,0.44,0.47],\n",
        "                                               std=[0.20,0.20,0.20])                           \n",
        "                       ]))"
      ]
    },
    {
      "cell_type": "markdown",
      "metadata": {
        "id": "SHhbyZU2D-Cl"
      },
      "source": [
        "Разделяем данные на training и validation.\n",
        "\n",
        "На всякий случай для подробностей - https://pytorch.org/tutorials/beginner/data_loading_tutorial.html"
      ]
    },
    {
      "cell_type": "code",
      "execution_count": 5,
      "metadata": {
        "id": "YRnr8CPg7Hli"
      },
      "outputs": [],
      "source": [
        "batch_size = 64\n",
        "\n",
        "data_size = data_train.data.shape[0]\n",
        "validation_split = .2\n",
        "split = int(np.floor(validation_split * data_size))\n",
        "indices = list(range(data_size))\n",
        "np.random.shuffle(indices)\n",
        "\n",
        "train_indices, val_indices = indices[split:], indices[:split]\n",
        "\n",
        "train_sampler = SubsetRandomSampler(train_indices)\n",
        "val_sampler = SubsetRandomSampler(val_indices)\n",
        "\n",
        "train_loader = torch.utils.data.DataLoader(data_train, batch_size=batch_size, \n",
        "                                           sampler=train_sampler)\n",
        "val_loader = torch.utils.data.DataLoader(data_train, batch_size=batch_size,\n",
        "                                         sampler=val_sampler)"
      ]
    },
    {
      "cell_type": "code",
      "execution_count": 6,
      "metadata": {
        "id": "LyYvt-T67PBG"
      },
      "outputs": [],
      "source": [
        "# We'll use a special helper module to shape it into a flat tensor\n",
        "class Flattener(nn.Module):\n",
        "    def forward(self, x):\n",
        "        batch_size, *_ = x.shape\n",
        "        return x.view(batch_size, -1)"
      ]
    },
    {
      "cell_type": "markdown",
      "metadata": {
        "id": "nh5kK9fAD-Cp"
      },
      "source": [
        "Создадим простейшую сеть с новыми слоями:  \n",
        "Convolutional - `nn.Conv2d`  \n",
        "MaxPool - `nn.MaxPool2d`"
      ]
    },
    {
      "cell_type": "code",
      "execution_count": 7,
      "metadata": {
        "id": "w9SFVGZP7SQd"
      },
      "outputs": [],
      "source": [
        "nn_model = nn.Sequential(\n",
        "            nn.Conv2d(3, 64, 3, padding=1),\n",
        "            nn.ReLU(inplace=True),\n",
        "            nn.MaxPool2d(4),\n",
        "            nn.Conv2d(64, 64, 3, padding=1),\n",
        "            nn.ReLU(inplace=True),\n",
        "            nn.MaxPool2d(4),    \n",
        "            Flattener(),\n",
        "            nn.Linear(64*2*2, 10),\n",
        "          )\n",
        "\n",
        "nn_model.type(torch.cuda.FloatTensor)\n",
        "nn_model.to(device)\n",
        "\n",
        "loss = nn.CrossEntropyLoss().type(torch.cuda.FloatTensor)\n",
        "optimizer = optim.SGD(nn_model.parameters(), lr=1e-1, weight_decay=1e-4)"
      ]
    },
    {
      "cell_type": "markdown",
      "metadata": {
        "id": "JuySZv-eD-Cq"
      },
      "source": [
        "Восстановите функцию `compute_accuracy` из прошлого задания.  \n",
        "Единственное отличие в новом - она должна передать данные на GPU прежде чем прогонять через модель. Сделайте это так же, как это делает функция `train_model`"
      ]
    },
    {
      "cell_type": "code",
      "execution_count": 8,
      "metadata": {
        "colab": {
          "base_uri": "https://localhost:8080/"
        },
        "id": "2ek3KVQK7hJ6",
        "outputId": "3520e001-d45d-49f9-8d7d-7e97835a5b5b"
      },
      "outputs": [
        {
          "output_type": "stream",
          "name": "stdout",
          "text": [
            "Average loss: 1.380550, Train accuracy: 0.538784, Val accuracy: 0.694014\n",
            "Average loss: 0.690437, Train accuracy: 0.791677, Val accuracy: 0.816463\n",
            "Average loss: 0.578059, Train accuracy: 0.826502, Val accuracy: 0.809092\n",
            "Average loss: 0.530958, Train accuracy: 0.841552, Val accuracy: 0.840489\n",
            "Average loss: 0.501794, Train accuracy: 0.850647, Val accuracy: 0.831616\n"
          ]
        }
      ],
      "source": [
        "def train_model(model, train_loader, val_loader, loss, optimizer, num_epochs):    \n",
        "    loss_history = []\n",
        "    train_history = []\n",
        "    val_history = []\n",
        "    for epoch in range(num_epochs):\n",
        "        model.train() # Enter train mode\n",
        "        \n",
        "        loss_accum = 0\n",
        "        correct_samples = 0\n",
        "        total_samples = 0\n",
        "        for i_step, (x, y) in enumerate(train_loader):\n",
        "          \n",
        "            x_gpu = x.to(device)\n",
        "            y_gpu = y.to(device)\n",
        "            prediction = model(x_gpu)    \n",
        "            loss_value = loss(prediction, y_gpu)\n",
        "            optimizer.zero_grad()\n",
        "            loss_value.backward()\n",
        "            optimizer.step()\n",
        "            \n",
        "            _, indices = torch.max(prediction, 1)\n",
        "            correct_samples += torch.sum(indices == y_gpu)\n",
        "            total_samples += y.shape[0]\n",
        "            \n",
        "            loss_accum += loss_value\n",
        "\n",
        "        ave_loss = loss_accum / i_step\n",
        "        train_accuracy = float(correct_samples) / total_samples\n",
        "        val_accuracy = compute_accuracy(model, val_loader)\n",
        "        \n",
        "        loss_history.append(float(ave_loss))\n",
        "        train_history.append(train_accuracy)\n",
        "        val_history.append(val_accuracy)\n",
        "        \n",
        "        print(\"Average loss: %f, Train accuracy: %f, Val accuracy: %f\" % (ave_loss, train_accuracy, val_accuracy))\n",
        "        \n",
        "    return loss_history, train_history, val_history\n",
        "        \n",
        "def compute_accuracy(model, loader):\n",
        "    \"\"\"\n",
        "    Computes accuracy on the dataset wrapped in a loader\n",
        "    \n",
        "    Returns: accuracy as a float value between 0 and 1\n",
        "    \"\"\"\n",
        "    model.eval() # Evaluation mode\n",
        "    # TODO: Copy implementation from previous assignment\n",
        "    # Don't forget to move the data to device before running it through the model!\n",
        "    total = 0\n",
        "    correct = 0\n",
        "    for x, y in val_loader:\n",
        "      x_gpu, y_gpu = x.to(device), y.to(device)\n",
        "\n",
        "      outputs = model(x_gpu)\n",
        "      _, pred = torch.max(outputs.data, 1)\n",
        "      total += y.size(0)\n",
        "      correct += (pred == y_gpu).sum().item()\n",
        "\n",
        "    return correct / total\n",
        "\n",
        "loss_history, train_history, val_history = train_model(nn_model, train_loader, val_loader, loss, optimizer, 5)\n"
      ]
    },
    {
      "cell_type": "markdown",
      "metadata": {
        "id": "6a-3a1ZFGEw_"
      },
      "source": [
        "# Аугментация данных (Data augmentation)\n",
        "\n",
        "В работе с изображениями одним из особенно важных методов является аугментация данных - то есть, генерация дополнительных данных для тренировки на основе изначальных.   \n",
        "Таким образом, мы получаем возможность \"увеличить\" набор данных для тренировки, что ведет к лучшей работе сети.\n",
        "Важно, чтобы аугментированные данные были похожи на те, которые могут встретиться в реальной жизни, иначе польза от аугментаций уменьшается и может ухудшить работу сети.\n",
        "\n",
        "С PyTorch идут несколько таких алгоритмов, называемых `transforms`. Более подробно про них можно прочитать тут -\n",
        "https://pytorch.org/tutorials/beginner/data_loading_tutorial.html#transforms\n",
        "\n",
        "Ниже мы используем следующие алгоритмы генерации:\n",
        "- ColorJitter - случайное изменение цвета\n",
        "- RandomHorizontalFlip - горизонтальное отражение с вероятностью 50%\n",
        "- RandomVerticalFlip - вертикальное отражение с вероятностью 50%\n",
        "- RandomRotation - случайный поворот"
      ]
    },
    {
      "cell_type": "code",
      "execution_count": 9,
      "metadata": {
        "colab": {
          "base_uri": "https://localhost:8080/"
        },
        "id": "jCWMUWmr7t5g",
        "outputId": "1da01633-48eb-4dc6-dda4-b9d6e7ea03c4"
      },
      "outputs": [
        {
          "output_type": "stream",
          "name": "stderr",
          "text": [
            "/usr/local/lib/python3.7/dist-packages/torchvision/transforms/transforms.py:1249: UserWarning: Argument resample is deprecated and will be removed since v0.10.0. Please, use interpolation instead\n",
            "  \"Argument resample is deprecated and will be removed since v0.10.0. Please, use interpolation instead\"\n"
          ]
        }
      ],
      "source": [
        "tfs = transforms.Compose([\n",
        "    transforms.ColorJitter(hue=.50, saturation=.50),\n",
        "    transforms.RandomHorizontalFlip(),\n",
        "    transforms.RandomVerticalFlip(),\n",
        "    transforms.RandomRotation(50, resample=PIL.Image.BILINEAR),\n",
        "    transforms.ToTensor(),\n",
        "    transforms.Normalize(mean=[0.43,0.44,0.47],\n",
        "                       std=[0.20,0.20,0.20])                           \n",
        "])\n",
        "\n",
        "# Create augmented train dataset\n",
        "data_aug_train = dset.SVHN('./', \n",
        "                       transform=tfs\n",
        "                      )\n",
        "\n",
        "train_aug_loader = torch.utils.data.DataLoader(data_aug_train, batch_size=batch_size, \n",
        "                                           sampler=train_sampler)"
      ]
    },
    {
      "cell_type": "markdown",
      "metadata": {
        "id": "WRRWVedxD-Ct"
      },
      "source": [
        "Визуализируем результаты агментации (вообще, смотреть на сгенерированные данные всегда очень полезно)."
      ]
    },
    {
      "cell_type": "code",
      "execution_count": 10,
      "metadata": {
        "colab": {
          "base_uri": "https://localhost:8080/",
          "height": 208
        },
        "id": "YlJJEro1KZ45",
        "outputId": "fbf509be-4b2b-4996-ef72-11298c4b5617"
      },
      "outputs": [
        {
          "output_type": "stream",
          "name": "stderr",
          "text": [
            "/usr/local/lib/python3.7/dist-packages/torchvision/transforms/transforms.py:1249: UserWarning: Argument resample is deprecated and will be removed since v0.10.0. Please, use interpolation instead\n",
            "  \"Argument resample is deprecated and will be removed since v0.10.0. Please, use interpolation instead\"\n"
          ]
        },
        {
          "output_type": "display_data",
          "data": {
            "text/plain": [
              "<Figure size 2160x216 with 10 Axes>"
            ],
            "image/png": "[encoded data removed]"
          },
          "metadata": {
            "needs_background": "light"
          }
        }
      ],
      "source": [
        "# TODO: Visualize some augmented images!\n",
        "# hint: you can create new datasets and loaders to accomplish this\n",
        "\n",
        "# Based on the visualizations, should we keep all the augmentations?\n",
        "\n",
        "tfs = transforms.Compose([\n",
        "    transforms.ColorJitter(hue=.20, saturation=.20),\n",
        "    transforms.RandomHorizontalFlip(),\n",
        "    transforms.RandomVerticalFlip(),\n",
        "    transforms.RandomRotation(10, resample=PIL.Image.BILINEAR),\n",
        "])\n",
        "\n",
        "data_aug_vis = dset.SVHN('./', \n",
        "                       transform=tfs\n",
        "                      )\n",
        "\n",
        "plt.figure(figsize=(30, 3))\n",
        "\n",
        "for i, (x, y) in enumerate(data_aug_vis):\n",
        "    if i == 10:\n",
        "        break\n",
        "    plt.subplot(1, 10, i+1)\n",
        "    plt.grid(False)\n",
        "    plt.imshow(x)\n",
        "    plt.axis('off')"
      ]
    },
    {
      "cell_type": "markdown",
      "metadata": {
        "id": "o2LrmsYHoguB"
      },
      "source": [
        "Все ли агментации одинаково полезны на этом наборе данных? Могут ли быть среди них те, которые собьют модель с толку?\n",
        "\n",
        "Выберите из них только корректные"
      ]
    },
    {
      "cell_type": "code",
      "execution_count": 11,
      "metadata": {
        "colab": {
          "base_uri": "https://localhost:8080/"
        },
        "id": "evro9ksXGs9u",
        "outputId": "5740788b-e297-45d5-9833-44e8fe0e3e5c"
      },
      "outputs": [
        {
          "output_type": "stream",
          "name": "stderr",
          "text": [
            "/usr/local/lib/python3.7/dist-packages/torchvision/transforms/transforms.py:1249: UserWarning: Argument resample is deprecated and will be removed since v0.10.0. Please, use interpolation instead\n",
            "  \"Argument resample is deprecated and will be removed since v0.10.0. Please, use interpolation instead\"\n"
          ]
        }
      ],
      "source": [
        "# TODO: \n",
        "tfs = transforms.Compose([\n",
        "    transforms.ColorJitter(hue=.20, saturation=.20),\n",
        "    transforms.RandomRotation(10, resample=PIL.Image.BILINEAR),\n",
        "    # TODO: Add good augmentations\n",
        "    transforms.ToTensor(),\n",
        "    transforms.Normalize(mean=[0.43,0.44,0.47],\n",
        "                       std=[0.20,0.20,0.20])                           \n",
        "])\n",
        "\n",
        "data_aug_train = dset.SVHN('./', \n",
        "                       transform=tfs\n",
        "                      )\n",
        "\n",
        "# TODO create new instances of loaders with the augmentations you chose\n",
        "train_aug_loader = torch.utils.data.DataLoader(data_aug_train, batch_size=batch_size, \n",
        "                                           sampler=train_sampler)"
      ]
    },
    {
      "cell_type": "code",
      "execution_count": 12,
      "metadata": {
        "colab": {
          "base_uri": "https://localhost:8080/"
        },
        "id": "PeO6Zw0DHqPR",
        "outputId": "b2b4939e-d6b3-43f8-97f3-1e57cac1ded2"
      },
      "outputs": [
        {
          "output_type": "stream",
          "name": "stdout",
          "text": [
            "Average loss: 0.599158, Train accuracy: 0.816401, Val accuracy: 0.834073\n",
            "Average loss: 0.546977, Train accuracy: 0.833276, Val accuracy: 0.828476\n",
            "Average loss: 0.524689, Train accuracy: 0.838651, Val accuracy: 0.856802\n",
            "Average loss: 0.509526, Train accuracy: 0.845169, Val accuracy: 0.853457\n",
            "Average loss: 0.497892, Train accuracy: 0.848326, Val accuracy: 0.829841\n"
          ]
        }
      ],
      "source": [
        "# Finally, let's train with augmentations!\n",
        "\n",
        "# Note we shouldn't use augmentations on validation\n",
        "\n",
        "loss_history, train_history, val_history = train_model(nn_model, train_aug_loader, val_loader, loss, optimizer, 5)"
      ]
    },
    {
      "cell_type": "markdown",
      "metadata": {
        "id": "r0bcioK6JBDK"
      },
      "source": [
        "# LeNet\n",
        "Попробуем имплементировать классическую архитектуру сверточной нейронной сети, предложенную Яном ЛеКуном в 1998 году. В свое время она достигла впечатляющих результатов на MNIST, посмотрим как она справится с SVHN?\n",
        "Она описана в статье [\"Gradient Based Learning Applied to Document Recognition\"](http://yann.lecun.com/exdb/publis/pdf/lecun-01a.pdf), попробуйте прочитать ключевые части и имплементировать предложенную архитетуру на PyTorch.\n",
        "\n",
        "Реализовывать слои и функцию ошибки LeNet, которых нет в PyTorch, **не нужно** - просто возьмите их размеры и переведите в уже известные нам Convolutional, Pooling и Fully Connected layers.\n",
        "\n",
        "Если в статье не очень понятно, можно просто погуглить LeNet и разобраться в деталях :)"
      ]
    },
    {
      "cell_type": "code",
      "execution_count": 13,
      "metadata": {
        "id": "ieEzZUglJAUB"
      },
      "outputs": [],
      "source": [
        "# TODO: Implement LeNet-like architecture for SVHN task\n",
        "lenet_model = nn.Sequential(\n",
        "            nn.Conv2d(in_channels=3, out_channels=6, kernel_size=5, stride=1),\n",
        "            nn.ReLU(inplace=True),\n",
        "            nn.MaxPool2d(kernel_size=2),\n",
        "            nn.Conv2d(in_channels=6, out_channels=16, kernel_size=5, stride=1),\n",
        "            nn.ReLU(inplace=True),\n",
        "            nn.MaxPool2d(kernel_size=2), \n",
        "            nn.Conv2d(in_channels=16, out_channels=120, kernel_size=5, stride=1),\n",
        "            nn.ReLU(inplace=True),\n",
        "            Flattener(),\n",
        "            nn.Linear(in_features=120, out_features=84),\n",
        "            nn.ReLU(inplace=True),\n",
        "            nn.Linear(in_features=84, out_features=10),\n",
        "          )\n",
        "\n",
        "lenet_model.type(torch.cuda.FloatTensor)\n",
        "lenet_model.to(device)\n",
        "\n",
        "loss = nn.CrossEntropyLoss().type(torch.cuda.FloatTensor)\n",
        "optimizer = optim.SGD(lenet_model.parameters(), lr=1e-1, weight_decay=1e-4)"
      ]
    },
    {
      "cell_type": "code",
      "execution_count": 14,
      "metadata": {
        "colab": {
          "base_uri": "https://localhost:8080/"
        },
        "id": "WMmaPfdeKk9H",
        "outputId": "3fbd13dd-7e36-4740-8a1d-dc0712dcd63b"
      },
      "outputs": [
        {
          "output_type": "stream",
          "name": "stdout",
          "text": [
            "Average loss: 1.277891, Train accuracy: 0.570863, Val accuracy: 0.833800\n",
            "Average loss: 0.557086, Train accuracy: 0.830939, Val accuracy: 0.856802\n",
            "Average loss: 0.462840, Train accuracy: 0.860304, Val accuracy: 0.874070\n",
            "Average loss: 0.413791, Train accuracy: 0.875047, Val accuracy: 0.887653\n",
            "Average loss: 0.381167, Train accuracy: 0.883493, Val accuracy: 0.888677\n",
            "Average loss: 0.357827, Train accuracy: 0.892144, Val accuracy: 0.890724\n",
            "Average loss: 0.338373, Train accuracy: 0.898150, Val accuracy: 0.892158\n",
            "Average loss: 0.319095, Train accuracy: 0.905385, Val accuracy: 0.893454\n",
            "Average loss: 0.306537, Train accuracy: 0.906972, Val accuracy: 0.894888\n",
            "Average loss: 0.295269, Train accuracy: 0.910453, Val accuracy: 0.901031\n"
          ]
        }
      ],
      "source": [
        "# Let's train it!\n",
        "loss_history, train_history, val_history = train_model(lenet_model, train_aug_loader, val_loader, loss, optimizer, 10)"
      ]
    },
    {
      "cell_type": "markdown",
      "metadata": {
        "id": "u_O9qiYySvuj"
      },
      "source": [
        "# Подбор гиперпараметров"
      ]
    },
    {
      "cell_type": "code",
      "execution_count": 15,
      "metadata": {
        "colab": {
          "base_uri": "https://localhost:8080/"
        },
        "id": "i6mhfdQ9K-N3",
        "outputId": "3c69da8d-4cfe-4887-e5f8-b2b68211ea01"
      },
      "outputs": [
        {
          "output_type": "stream",
          "name": "stdout",
          "text": [
            "lr: 0.100000, wd: 0.001000\n",
            "Average loss: 1.461486, Train accuracy: 0.504232, Val accuracy: 0.805747\n",
            "Average loss: 0.609741, Train accuracy: 0.816503, Val accuracy: 0.852297\n",
            "Average loss: 0.499377, Train accuracy: 0.850834, Val accuracy: 0.871067\n",
            "Average loss: 0.447357, Train accuracy: 0.865321, Val accuracy: 0.867245\n",
            "Average loss: 0.413329, Train accuracy: 0.875132, Val accuracy: 0.885810\n",
            "lr: 0.100000, wd: 0.000100\n",
            "Average loss: 0.387656, Train accuracy: 0.882213, Val accuracy: 0.877415\n",
            "Average loss: 0.362557, Train accuracy: 0.889977, Val accuracy: 0.882738\n",
            "Average loss: 0.342477, Train accuracy: 0.896478, Val accuracy: 0.890042\n",
            "Average loss: 0.326455, Train accuracy: 0.900556, Val accuracy: 0.898096\n",
            "Average loss: 0.312976, Train accuracy: 0.904378, Val accuracy: 0.902805\n",
            "lr: 0.100000, wd: 0.000010\n",
            "Average loss: 0.298248, Train accuracy: 0.908115, Val accuracy: 0.903010\n",
            "Average loss: 0.292123, Train accuracy: 0.910862, Val accuracy: 0.894478\n",
            "Average loss: 0.280324, Train accuracy: 0.914087, Val accuracy: 0.897004\n",
            "Average loss: 0.272683, Train accuracy: 0.917346, Val accuracy: 0.901167\n",
            "Average loss: 0.265809, Train accuracy: 0.918455, Val accuracy: 0.891065\n",
            "lr: 0.010000, wd: 0.001000\n",
            "Average loss: 0.199118, Train accuracy: 0.940143, Val accuracy: 0.914067\n",
            "Average loss: 0.181498, Train accuracy: 0.945500, Val accuracy: 0.914272\n",
            "Average loss: 0.178544, Train accuracy: 0.946780, Val accuracy: 0.914818\n",
            "Average loss: 0.172659, Train accuracy: 0.947753, Val accuracy: 0.916115\n",
            "Average loss: 0.167726, Train accuracy: 0.949596, Val accuracy: 0.916183\n",
            "lr: 0.010000, wd: 0.000100\n",
            "Average loss: 0.165909, Train accuracy: 0.950722, Val accuracy: 0.916251\n",
            "Average loss: 0.160848, Train accuracy: 0.951575, Val accuracy: 0.916524\n",
            "Average loss: 0.158525, Train accuracy: 0.951217, Val accuracy: 0.915978\n",
            "Average loss: 0.155913, Train accuracy: 0.952513, Val accuracy: 0.916115\n",
            "Average loss: 0.154954, Train accuracy: 0.952991, Val accuracy: 0.915842\n",
            "lr: 0.010000, wd: 0.000010\n",
            "Average loss: 0.152551, Train accuracy: 0.953964, Val accuracy: 0.915842\n",
            "Average loss: 0.148326, Train accuracy: 0.954646, Val accuracy: 0.915637\n",
            "Average loss: 0.147580, Train accuracy: 0.955226, Val accuracy: 0.916593\n",
            "Average loss: 0.146384, Train accuracy: 0.955158, Val accuracy: 0.915091\n",
            "Average loss: 0.141557, Train accuracy: 0.956250, Val accuracy: 0.915228\n",
            "lr: 0.001000, wd: 0.001000\n",
            "Average loss: 0.136675, Train accuracy: 0.958912, Val accuracy: 0.916524\n",
            "Average loss: 0.136164, Train accuracy: 0.958332, Val accuracy: 0.916047\n",
            "Average loss: 0.134929, Train accuracy: 0.959390, Val accuracy: 0.916797\n",
            "Average loss: 0.133816, Train accuracy: 0.958997, Val accuracy: 0.916797\n",
            "Average loss: 0.132311, Train accuracy: 0.960294, Val accuracy: 0.916115\n",
            "lr: 0.001000, wd: 0.000100\n",
            "Average loss: 0.133586, Train accuracy: 0.959868, Val accuracy: 0.916115\n",
            "Average loss: 0.133176, Train accuracy: 0.960226, Val accuracy: 0.915910\n",
            "Average loss: 0.132919, Train accuracy: 0.959322, Val accuracy: 0.916183\n",
            "Average loss: 0.132359, Train accuracy: 0.959782, Val accuracy: 0.916320\n",
            "Average loss: 0.131633, Train accuracy: 0.960055, Val accuracy: 0.916866\n",
            "lr: 0.001000, wd: 0.000010\n",
            "Average loss: 0.132184, Train accuracy: 0.960618, Val accuracy: 0.916729\n",
            "Average loss: 0.131696, Train accuracy: 0.959612, Val accuracy: 0.916388\n",
            "Average loss: 0.132207, Train accuracy: 0.960516, Val accuracy: 0.916524\n",
            "Average loss: 0.129856, Train accuracy: 0.961096, Val accuracy: 0.916047\n",
            "Average loss: 0.129755, Train accuracy: 0.960618, Val accuracy: 0.915978\n",
            "lr: 0.000100, wd: 0.001000\n",
            "Average loss: 0.131164, Train accuracy: 0.961267, Val accuracy: 0.915978\n",
            "Average loss: 0.130953, Train accuracy: 0.960004, Val accuracy: 0.915978\n",
            "Average loss: 0.130250, Train accuracy: 0.960772, Val accuracy: 0.916047\n",
            "Average loss: 0.130405, Train accuracy: 0.961472, Val accuracy: 0.916047\n",
            "Average loss: 0.130468, Train accuracy: 0.960345, Val accuracy: 0.915978\n",
            "lr: 0.000100, wd: 0.000100\n",
            "Average loss: 0.128441, Train accuracy: 0.961216, Val accuracy: 0.915978\n",
            "Average loss: 0.129268, Train accuracy: 0.960994, Val accuracy: 0.915978\n",
            "Average loss: 0.130888, Train accuracy: 0.960158, Val accuracy: 0.915978\n",
            "Average loss: 0.131209, Train accuracy: 0.960021, Val accuracy: 0.916183\n",
            "Average loss: 0.128912, Train accuracy: 0.961096, Val accuracy: 0.916456\n",
            "lr: 0.000100, wd: 0.000010\n",
            "Average loss: 0.131731, Train accuracy: 0.961147, Val accuracy: 0.916251\n",
            "Average loss: 0.131583, Train accuracy: 0.960311, Val accuracy: 0.916320\n",
            "Average loss: 0.130692, Train accuracy: 0.959953, Val accuracy: 0.916388\n",
            "Average loss: 0.128238, Train accuracy: 0.961199, Val accuracy: 0.916456\n",
            "Average loss: 0.130373, Train accuracy: 0.960089, Val accuracy: 0.916183\n"
          ]
        }
      ],
      "source": [
        "# The key hyperparameters we're going to tune are learning speed, annealing rate and regularization\n",
        "# We also encourage you to try different optimizers as well\n",
        "\n",
        "lenet_model = nn.Sequential(\n",
        "            nn.Conv2d(in_channels=3, out_channels=6, kernel_size=5, stride=1),\n",
        "            nn.ReLU(inplace=True),\n",
        "            nn.MaxPool2d(kernel_size=2),\n",
        "            nn.Conv2d(in_channels=6, out_channels=16, kernel_size=5, stride=1),\n",
        "            nn.ReLU(inplace=True),\n",
        "            nn.MaxPool2d(kernel_size=2), \n",
        "            nn.Conv2d(in_channels=16, out_channels=120, kernel_size=5, stride=1),\n",
        "            nn.ReLU(inplace=True),\n",
        "            Flattener(),\n",
        "            nn.Linear(in_features=120, out_features=84),\n",
        "            nn.ReLU(inplace=True),\n",
        "            nn.Linear(in_features=84, out_features=10),\n",
        "          )\n",
        "\n",
        "lenet_model.type(torch.cuda.FloatTensor)\n",
        "lenet_model.to(device)\n",
        "\n",
        "loss = nn.CrossEntropyLoss().type(torch.cuda.FloatTensor)\n",
        "\n",
        "Hyperparams = namedtuple(\"Hyperparams\", ['learning_rate', 'reg'])\n",
        "RunResult = namedtuple(\"RunResult\", ['model', 'train_history', 'val_history', 'final_val_accuracy'])\n",
        "\n",
        "learning_rates = [1e-1, 1e-2, 1e-3, 1e-4]\n",
        "anneal_coeff = 0.2\n",
        "anneal_epochs = [1, 5, 10, 15, 20, 50]\n",
        "reg = [1e-3, 1e-4, 1e-5]\n",
        "\n",
        "batch_size = 64\n",
        "epoch_num = 5\n",
        "\n",
        "# Record all the runs here\n",
        "# Key should be Hyperparams and values should be RunResult\n",
        "run_record = {} \n",
        "\n",
        "# Use grid search or random search and record all runs in run_record dictionnary \n",
        "# Important: perform search in logarithmic space!\n",
        "\n",
        "# TODO: Your code here!\n",
        "\n",
        "for learning_rate in learning_rates:\n",
        "    for wd in reg:\n",
        "        print(\"lr: %f, wd: %f\" % (learning_rate, wd))\n",
        "        optimizer = optim.SGD(lenet_model.parameters(), lr=learning_rate, weight_decay=wd)\n",
        "        loss_history, train_history, val_history = train_model(lenet_model, train_aug_loader, val_loader, loss, optimizer, epoch_num)\n",
        "        run_record[Hyperparams(learning_rate, wd)] = RunResult(lenet_model, train_history, val_history, val_history[-1])\n"
      ]
    },
    {
      "cell_type": "code",
      "execution_count": 16,
      "metadata": {
        "colab": {
          "base_uri": "https://localhost:8080/"
        },
        "id": "Y6xExdw8JB1l",
        "outputId": "435e7c3a-4abb-407b-8686-e474b46aec55"
      },
      "outputs": [
        {
          "output_type": "stream",
          "name": "stdout",
          "text": [
            "Best validation accuracy: 0.92, best hyperparams: Hyperparams(learning_rate=0.001, reg=0.0001)\n"
          ]
        }
      ],
      "source": [
        "best_val_accuracy = None\n",
        "best_hyperparams = None\n",
        "best_run = None\n",
        "\n",
        "for hyperparams, run_result in run_record.items():\n",
        "    if best_val_accuracy is None or best_val_accuracy < run_result.final_val_accuracy:\n",
        "        best_val_accuracy = run_result.final_val_accuracy\n",
        "        best_hyperparams = hyperparams\n",
        "        best_run = run_result\n",
        "        \n",
        "print(\"Best validation accuracy: %4.2f, best hyperparams: %s\" % (best_val_accuracy, best_hyperparams))\n",
        "        "
      ]
    },
    {
      "cell_type": "markdown",
      "metadata": {
        "id": "LOmsR0uVgtgf"
      },
      "source": [
        "# Свободное упражнение - догоним и перегоним LeNet!\n",
        "\n",
        "Попробуйте найти архитектуру и настройки тренировки, чтобы выступить лучше наших бейзлайнов.\n",
        "\n",
        "Что можно и нужно попробовать:\n",
        "- BatchNormalization (для convolution layers он в PyTorch называется [batchnorm2d](https://pytorch.org/docs/stable/nn.html#batchnorm2d))\n",
        "- Изменить количество слоев и их толщину\n",
        "- Изменять количество эпох тренировки\n",
        "- Попробовать и другие агментации"
      ]
    },
    {
      "cell_type": "code",
      "execution_count": 17,
      "metadata": {
        "colab": {
          "base_uri": "https://localhost:8080/"
        },
        "id": "tSVhD747icoc",
        "outputId": "c0cee3cd-ba57-403e-83db-068cf2117b4c"
      },
      "outputs": [
        {
          "metadata": {
            "tags": null
          },
          "name": "stderr",
          "output_type": "stream",
          "text": [
            "/usr/local/lib/python3.7/dist-packages/torchvision/transforms/transforms.py:1249: UserWarning: Argument resample is deprecated and will be removed since v0.10.0. Please, use interpolation instead\n",
            "  \"Argument resample is deprecated and will be removed since v0.10.0. Please, use interpolation instead\"\n"
          ]
        },
        {
          "output_type": "stream",
          "name": "stdout",
          "text": [
            "lr: 0.100000, wd: 0.001000\n",
            "Average loss: 0.852022, Train accuracy: 0.722776, Val accuracy: 0.835711\n",
            "Average loss: 0.532389, Train accuracy: 0.834488, Val accuracy: 0.878097\n",
            "Average loss: 0.467069, Train accuracy: 0.856329, Val accuracy: 0.885059\n",
            "Average loss: 0.436825, Train accuracy: 0.865355, Val accuracy: 0.887311\n",
            "Average loss: 0.414312, Train accuracy: 0.872692, Val accuracy: 0.890110\n",
            "Average loss: 0.402830, Train accuracy: 0.876002, Val accuracy: 0.896731\n",
            "Average loss: 0.390614, Train accuracy: 0.878238, Val accuracy: 0.902123\n",
            "Average loss: 0.378955, Train accuracy: 0.882077, Val accuracy: 0.903078\n",
            "Average loss: 0.372988, Train accuracy: 0.883613, Val accuracy: 0.901986\n",
            "Average loss: 0.366862, Train accuracy: 0.886428, Val accuracy: 0.898437\n",
            "lr: 0.100000, wd: 0.000100\n",
            "Average loss: 0.357035, Train accuracy: 0.889653, Val accuracy: 0.902805\n",
            "Average loss: 0.343363, Train accuracy: 0.893270, Val accuracy: 0.901713\n",
            "Average loss: 0.328257, Train accuracy: 0.898731, Val accuracy: 0.909904\n",
            "Average loss: 0.322718, Train accuracy: 0.900061, Val accuracy: 0.911883\n",
            "Average loss: 0.315594, Train accuracy: 0.901358, Val accuracy: 0.910859\n",
            "Average loss: 0.308762, Train accuracy: 0.903969, Val accuracy: 0.913043\n",
            "Average loss: 0.299224, Train accuracy: 0.907296, Val accuracy: 0.912975\n",
            "Average loss: 0.292480, Train accuracy: 0.908218, Val accuracy: 0.912634\n",
            "Average loss: 0.287142, Train accuracy: 0.910299, Val accuracy: 0.915910\n",
            "Average loss: 0.282028, Train accuracy: 0.912808, Val accuracy: 0.916047\n",
            "lr: 0.100000, wd: 0.000010\n",
            "Average loss: 0.277379, Train accuracy: 0.914719, Val accuracy: 0.911201\n",
            "Average loss: 0.272128, Train accuracy: 0.916015, Val accuracy: 0.915910\n",
            "Average loss: 0.269431, Train accuracy: 0.916613, Val accuracy: 0.916115\n",
            "Average loss: 0.263375, Train accuracy: 0.918848, Val accuracy: 0.914955\n",
            "Average loss: 0.263635, Train accuracy: 0.919803, Val accuracy: 0.915842\n",
            "Average loss: 0.253788, Train accuracy: 0.921305, Val accuracy: 0.915296\n",
            "Average loss: 0.256649, Train accuracy: 0.920162, Val accuracy: 0.916866\n",
            "Average loss: 0.250608, Train accuracy: 0.922482, Val accuracy: 0.916661\n",
            "Average loss: 0.245188, Train accuracy: 0.925195, Val accuracy: 0.913248\n",
            "Average loss: 0.244227, Train accuracy: 0.924189, Val accuracy: 0.918026\n",
            "lr: 0.010000, wd: 0.001000\n",
            "Average loss: 0.213792, Train accuracy: 0.933880, Val accuracy: 0.921302\n",
            "Average loss: 0.201243, Train accuracy: 0.938607, Val accuracy: 0.922667\n",
            "Average loss: 0.199358, Train accuracy: 0.939119, Val accuracy: 0.922940\n",
            "Average loss: 0.198816, Train accuracy: 0.939307, Val accuracy: 0.923555\n",
            "Average loss: 0.196207, Train accuracy: 0.940603, Val accuracy: 0.923555\n",
            "Average loss: 0.193850, Train accuracy: 0.941320, Val accuracy: 0.922258\n",
            "Average loss: 0.192844, Train accuracy: 0.940620, Val accuracy: 0.921848\n",
            "Average loss: 0.189951, Train accuracy: 0.942156, Val accuracy: 0.923350\n",
            "Average loss: 0.190269, Train accuracy: 0.942822, Val accuracy: 0.923896\n",
            "Average loss: 0.187720, Train accuracy: 0.942361, Val accuracy: 0.924579\n",
            "lr: 0.010000, wd: 0.000100\n",
            "Average loss: 0.187329, Train accuracy: 0.942071, Val accuracy: 0.923759\n",
            "Average loss: 0.185450, Train accuracy: 0.944067, Val accuracy: 0.922531\n",
            "Average loss: 0.181833, Train accuracy: 0.944016, Val accuracy: 0.924920\n",
            "Average loss: 0.183032, Train accuracy: 0.944067, Val accuracy: 0.922463\n",
            "Average loss: 0.183677, Train accuracy: 0.943521, Val accuracy: 0.923282\n",
            "Average loss: 0.183045, Train accuracy: 0.943743, Val accuracy: 0.923555\n",
            "Average loss: 0.183195, Train accuracy: 0.943999, Val accuracy: 0.924237\n",
            "Average loss: 0.177253, Train accuracy: 0.945808, Val accuracy: 0.923623\n",
            "Average loss: 0.178023, Train accuracy: 0.944323, Val accuracy: 0.923418\n",
            "Average loss: 0.179421, Train accuracy: 0.944613, Val accuracy: 0.923282\n",
            "lr: 0.010000, wd: 0.000010\n",
            "Average loss: 0.179605, Train accuracy: 0.944306, Val accuracy: 0.922872\n",
            "Average loss: 0.176780, Train accuracy: 0.945279, Val accuracy: 0.923623\n",
            "Average loss: 0.178927, Train accuracy: 0.943931, Val accuracy: 0.922736\n",
            "Average loss: 0.177125, Train accuracy: 0.945535, Val accuracy: 0.921780\n",
            "Average loss: 0.170215, Train accuracy: 0.946729, Val accuracy: 0.922258\n",
            "Average loss: 0.172044, Train accuracy: 0.947633, Val accuracy: 0.921098\n",
            "Average loss: 0.171617, Train accuracy: 0.946831, Val accuracy: 0.922394\n",
            "Average loss: 0.170595, Train accuracy: 0.947343, Val accuracy: 0.922531\n",
            "Average loss: 0.172204, Train accuracy: 0.946200, Val accuracy: 0.921848\n",
            "Average loss: 0.170362, Train accuracy: 0.947906, Val accuracy: 0.923145\n",
            "lr: 0.001000, wd: 0.001000\n",
            "Average loss: 0.165921, Train accuracy: 0.948589, Val accuracy: 0.922394\n",
            "Average loss: 0.165691, Train accuracy: 0.949817, Val accuracy: 0.923145\n",
            "Average loss: 0.166120, Train accuracy: 0.948179, Val accuracy: 0.922736\n",
            "Average loss: 0.165924, Train accuracy: 0.948111, Val accuracy: 0.922190\n",
            "Average loss: 0.163161, Train accuracy: 0.948998, Val accuracy: 0.922121\n",
            "Average loss: 0.166905, Train accuracy: 0.947548, Val accuracy: 0.923009\n",
            "Average loss: 0.167160, Train accuracy: 0.947804, Val accuracy: 0.922531\n",
            "Average loss: 0.165037, Train accuracy: 0.948487, Val accuracy: 0.922394\n",
            "Average loss: 0.164943, Train accuracy: 0.948845, Val accuracy: 0.922326\n",
            "Average loss: 0.162936, Train accuracy: 0.949954, Val accuracy: 0.923418\n",
            "lr: 0.001000, wd: 0.000100\n",
            "Average loss: 0.163896, Train accuracy: 0.949118, Val accuracy: 0.922804\n",
            "Average loss: 0.165585, Train accuracy: 0.948094, Val accuracy: 0.922599\n",
            "Average loss: 0.163225, Train accuracy: 0.949698, Val accuracy: 0.921985\n",
            "Average loss: 0.162391, Train accuracy: 0.949630, Val accuracy: 0.921507\n",
            "Average loss: 0.163781, Train accuracy: 0.949886, Val accuracy: 0.922804\n",
            "Average loss: 0.164333, Train accuracy: 0.948794, Val accuracy: 0.921780\n",
            "Average loss: 0.160628, Train accuracy: 0.949118, Val accuracy: 0.923145\n",
            "Average loss: 0.164878, Train accuracy: 0.948418, Val accuracy: 0.923009\n",
            "Average loss: 0.162468, Train accuracy: 0.950039, Val accuracy: 0.921712\n",
            "Average loss: 0.165883, Train accuracy: 0.948862, Val accuracy: 0.922736\n",
            "lr: 0.001000, wd: 0.000010\n",
            "Average loss: 0.163605, Train accuracy: 0.949033, Val accuracy: 0.922940\n",
            "Average loss: 0.162706, Train accuracy: 0.949476, Val accuracy: 0.922736\n",
            "Average loss: 0.164034, Train accuracy: 0.948964, Val accuracy: 0.921644\n",
            "Average loss: 0.163040, Train accuracy: 0.950176, Val accuracy: 0.923350\n",
            "Average loss: 0.162916, Train accuracy: 0.949118, Val accuracy: 0.922531\n",
            "Average loss: 0.164884, Train accuracy: 0.948777, Val accuracy: 0.921917\n",
            "Average loss: 0.164323, Train accuracy: 0.949408, Val accuracy: 0.923418\n",
            "Average loss: 0.164401, Train accuracy: 0.949220, Val accuracy: 0.923213\n",
            "Average loss: 0.160779, Train accuracy: 0.949408, Val accuracy: 0.922531\n",
            "Average loss: 0.162675, Train accuracy: 0.950466, Val accuracy: 0.922053\n",
            "lr: 0.000100, wd: 0.001000\n",
            "Average loss: 0.161138, Train accuracy: 0.950176, Val accuracy: 0.922531\n",
            "Average loss: 0.161134, Train accuracy: 0.950841, Val accuracy: 0.921848\n",
            "Average loss: 0.163306, Train accuracy: 0.949749, Val accuracy: 0.922599\n",
            "Average loss: 0.158637, Train accuracy: 0.951097, Val accuracy: 0.922190\n",
            "Average loss: 0.160599, Train accuracy: 0.949954, Val accuracy: 0.923213\n",
            "Average loss: 0.163195, Train accuracy: 0.949357, Val accuracy: 0.922804\n",
            "Average loss: 0.159682, Train accuracy: 0.949101, Val accuracy: 0.922599\n",
            "Average loss: 0.162757, Train accuracy: 0.949783, Val accuracy: 0.921917\n",
            "Average loss: 0.161720, Train accuracy: 0.949596, Val accuracy: 0.923555\n",
            "Average loss: 0.161790, Train accuracy: 0.950551, Val accuracy: 0.921712\n",
            "lr: 0.000100, wd: 0.000100\n",
            "Average loss: 0.160572, Train accuracy: 0.950858, Val accuracy: 0.922872\n",
            "Average loss: 0.162101, Train accuracy: 0.950159, Val accuracy: 0.922804\n",
            "Average loss: 0.161300, Train accuracy: 0.949715, Val accuracy: 0.922872\n",
            "Average loss: 0.162011, Train accuracy: 0.950329, Val accuracy: 0.923350\n",
            "Average loss: 0.161141, Train accuracy: 0.950159, Val accuracy: 0.922463\n",
            "Average loss: 0.161898, Train accuracy: 0.949050, Val accuracy: 0.922804\n",
            "Average loss: 0.163973, Train accuracy: 0.948521, Val accuracy: 0.923009\n",
            "Average loss: 0.161920, Train accuracy: 0.949937, Val accuracy: 0.923009\n",
            "Average loss: 0.162813, Train accuracy: 0.950056, Val accuracy: 0.921917\n",
            "Average loss: 0.164012, Train accuracy: 0.949135, Val accuracy: 0.923350\n",
            "lr: 0.000100, wd: 0.000010\n",
            "Average loss: 0.160430, Train accuracy: 0.950176, Val accuracy: 0.923759\n",
            "Average loss: 0.162729, Train accuracy: 0.950466, Val accuracy: 0.921371\n",
            "Average loss: 0.162018, Train accuracy: 0.950466, Val accuracy: 0.923077\n",
            "Average loss: 0.161541, Train accuracy: 0.949937, Val accuracy: 0.923077\n",
            "Average loss: 0.163614, Train accuracy: 0.949561, Val accuracy: 0.921848\n",
            "Average loss: 0.161349, Train accuracy: 0.949852, Val accuracy: 0.922804\n",
            "Average loss: 0.164807, Train accuracy: 0.948964, Val accuracy: 0.922599\n",
            "Average loss: 0.160858, Train accuracy: 0.950142, Val accuracy: 0.923282\n",
            "Average loss: 0.161778, Train accuracy: 0.949834, Val accuracy: 0.922736\n",
            "Average loss: 0.163668, Train accuracy: 0.949476, Val accuracy: 0.921917\n",
            "Best validation accuracy: 0.92, best hyperparams: Hyperparams(learning_rate=0.01, reg=0.001)\n"
          ]
        }
      ],
      "source": [
        "best_model = nn.Sequential(\n",
        "            nn.Conv2d(in_channels=3, out_channels=6, kernel_size=7, stride=1, padding=1),\n",
        "            nn.ReLU(inplace=True),\n",
        "            nn.BatchNorm2d(6),\n",
        "            nn.MaxPool2d(kernel_size=2),\n",
        "            nn.Conv2d(in_channels=6, out_channels=16, kernel_size=7, stride=1, padding=1),\n",
        "            nn.ReLU(inplace=True),\n",
        "            nn.BatchNorm2d(16),\n",
        "            nn.MaxPool2d(kernel_size=2), \n",
        "            nn.Conv2d(in_channels=16, out_channels=120, kernel_size=7, stride=1, padding=1),\n",
        "            nn.ReLU(inplace=True),\n",
        "            nn.BatchNorm2d(120),\n",
        "            Flattener(),\n",
        "            nn.Linear(in_features=120, out_features=84),\n",
        "            nn.ReLU(inplace=True),\n",
        "            nn.BatchNorm1d(84),\n",
        "            nn.Linear(in_features=84, out_features=10),\n",
        "          )\n",
        "\n",
        "best_model.type(torch.cuda.FloatTensor)\n",
        "best_model.to(device)\n",
        "\n",
        "tfs = transforms.Compose([\n",
        "    transforms.ColorJitter(hue=.50, saturation=.50),\n",
        "    transforms.RandomRotation(20, resample=PIL.Image.BILINEAR),\n",
        "    transforms.ToTensor(),\n",
        "    transforms.Normalize(mean=[0.43,0.44,0.47],\n",
        "                       std=[0.20,0.20,0.20])                           \n",
        "])\n",
        "\n",
        "data_aug_train = dset.SVHN('./', \n",
        "                       transform=tfs\n",
        "                      )\n",
        "\n",
        "train_aug_loader = torch.utils.data.DataLoader(data_aug_train, batch_size=batch_size, \n",
        "                                           sampler=train_sampler)\n",
        "\n",
        "Hyperparams = namedtuple(\"Hyperparams\", ['learning_rate', 'reg'])\n",
        "RunResult = namedtuple(\"RunResult\", ['model', 'train_history', 'val_history', 'final_val_accuracy'])\n",
        "run_record = {} \n",
        "learning_rates = [1e-1, 1e-2, 1e-3, 1e-4]\n",
        "reg = [1e-3, 1e-4, 1e-5]\n",
        "\n",
        "loss = nn.CrossEntropyLoss().type(torch.cuda.FloatTensor)\n",
        "for learning_rate in learning_rates:\n",
        "    for wd in reg:\n",
        "        print(\"lr: %f, wd: %f\" % (learning_rate, wd))\n",
        "        optimizer = optim.SGD(best_model.parameters(), lr=learning_rate, weight_decay=wd)\n",
        "        loss_history, train_history, val_history = train_model(best_model, train_aug_loader, val_loader, loss, optimizer, 10)\n",
        "        run_record[Hyperparams(learning_rate, wd)] = RunResult(best_model, train_history, val_history, val_history[-1])\n",
        "\n",
        "best_val_accuracy = None\n",
        "best_hyperparams = None\n",
        "for hyperparams, run_result in run_record.items():\n",
        "    if best_val_accuracy is None or best_val_accuracy < run_result.final_val_accuracy:\n",
        "        best_val_accuracy = run_result.final_val_accuracy\n",
        "        best_model = run_result.model\n",
        "        best_hyperparams = hyperparams\n",
        "\n",
        "print(\"Best validation accuracy: %4.2f, best hyperparams: %s\" % (best_val_accuracy, best_hyperparams))"
      ]
    },
    {
      "cell_type": "markdown",
      "metadata": {
        "id": "ubeKgBcnhx7N"
      },
      "source": [
        "# Финальный аккорд - проверим лучшую модель на test set\n",
        "\n",
        "В качестве разнообразия - напишите код для прогона модели на test set вы.\n",
        "\n",
        "В результате вы должны натренировать модель, которая покажет более **90%** точности на test set.  \n",
        "Как водится, лучший результат в группе получит дополнительные баллы!"
      ]
    },
    {
      "cell_type": "code",
      "execution_count": 18,
      "metadata": {
        "colab": {
          "base_uri": "https://localhost:8080/"
        },
        "id": "EIqM1kdeh-hd",
        "outputId": "c9fdc7b8-66ca-4ae9-908e-ebcc2daaa361"
      },
      "outputs": [
        {
          "output_type": "stream",
          "name": "stdout",
          "text": [
            "Final test accuracy -  0.9219165927240461\n"
          ]
        }
      ],
      "source": [
        "# TODO Write the code to compute accuracy on test set\n",
        "test_loader = torch.utils.data.DataLoader(data_test, batch_size=batch_size)\n",
        "final_test_accuracy = compute_accuracy(best_model, test_loader)\n",
        "print(\"Final test accuracy - \", final_test_accuracy)"
      ]
    },
    {
      "cell_type": "code",
      "execution_count": null,
      "metadata": {
        "id": "BfH6qip6kVX_"
      },
      "outputs": [],
      "source": [
        ""
      ]
    }
  ],
  "metadata": {
    "accelerator": "GPU",
    "colab": {
      "collapsed_sections": [],
      "name": "PyTorch_CNN.ipynb",
      "provenance": []
    },
    "kernelspec": {
      "display_name": "Python 3",
      "language": "python",
      "name": "python3"
    },
    "language_info": {
      "codemirror_mode": {
        "name": "ipython",
        "version": 3
      },
      "file_extension": ".py",
      "mimetype": "text/x-python",
      "name": "python",
      "nbconvert_exporter": "python",
      "pygments_lexer": "ipython3",
      "version": "3.7.0"
    }
  },
  "nbformat": 4,
  "nbformat_minor": 0
}